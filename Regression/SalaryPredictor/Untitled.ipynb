{
 "cells": [
  {
   "cell_type": "code",
   "execution_count": 1,
   "metadata": {},
   "outputs": [],
   "source": [
    "import numpy as np\n",
    "import pandas as pd\n",
    "import matplotlib.pyplot as plt\n",
    "import seaborn as sns"
   ]
  },
  {
   "cell_type": "code",
   "execution_count": 41,
   "metadata": {},
   "outputs": [],
   "source": [
    "df = pd.read_csv('data.csv')"
   ]
  },
  {
   "cell_type": "code",
   "execution_count": 42,
   "metadata": {},
   "outputs": [
    {
     "data": {
      "text/plain": [
       "(2998, 34)"
      ]
     },
     "execution_count": 42,
     "metadata": {},
     "output_type": "execute_result"
    }
   ],
   "source": [
    "df.shape"
   ]
  },
  {
   "cell_type": "code",
   "execution_count": 43,
   "metadata": {},
   "outputs": [
    {
     "data": {
      "text/plain": [
       "Index(['ID', 'Gender', 'DOB', '10percentage', '10board', '12graduation',\n",
       "       '12percentage', '12board', 'CollegeID', 'CollegeTier', 'Degree',\n",
       "       'Specialization', 'collegeGPA', 'CollegeCityID', 'CollegeCityTier',\n",
       "       'CollegeState', 'GraduationYear', 'English', 'Logical', 'Quant',\n",
       "       'Domain', 'ComputerProgramming', 'ElectronicsAndSemicon',\n",
       "       'ComputerScience', 'MechanicalEngg', 'ElectricalEngg', 'TelecomEngg',\n",
       "       'CivilEngg', 'conscientiousness', 'agreeableness', 'extraversion',\n",
       "       'nueroticism', 'openess_to_experience', 'Salary'],\n",
       "      dtype='object')"
      ]
     },
     "execution_count": 43,
     "metadata": {},
     "output_type": "execute_result"
    }
   ],
   "source": [
    "df.columns"
   ]
  },
  {
   "cell_type": "code",
   "execution_count": 44,
   "metadata": {},
   "outputs": [
    {
     "data": {
      "text/html": [
       "<div>\n",
       "<style scoped>\n",
       "    .dataframe tbody tr th:only-of-type {\n",
       "        vertical-align: middle;\n",
       "    }\n",
       "\n",
       "    .dataframe tbody tr th {\n",
       "        vertical-align: top;\n",
       "    }\n",
       "\n",
       "    .dataframe thead th {\n",
       "        text-align: right;\n",
       "    }\n",
       "</style>\n",
       "<table border=\"1\" class=\"dataframe\">\n",
       "  <thead>\n",
       "    <tr style=\"text-align: right;\">\n",
       "      <th></th>\n",
       "      <th>ID</th>\n",
       "      <th>Gender</th>\n",
       "      <th>DOB</th>\n",
       "      <th>10percentage</th>\n",
       "      <th>10board</th>\n",
       "      <th>12graduation</th>\n",
       "      <th>12percentage</th>\n",
       "      <th>12board</th>\n",
       "      <th>CollegeID</th>\n",
       "      <th>CollegeTier</th>\n",
       "      <th>...</th>\n",
       "      <th>MechanicalEngg</th>\n",
       "      <th>ElectricalEngg</th>\n",
       "      <th>TelecomEngg</th>\n",
       "      <th>CivilEngg</th>\n",
       "      <th>conscientiousness</th>\n",
       "      <th>agreeableness</th>\n",
       "      <th>extraversion</th>\n",
       "      <th>nueroticism</th>\n",
       "      <th>openess_to_experience</th>\n",
       "      <th>Salary</th>\n",
       "    </tr>\n",
       "  </thead>\n",
       "  <tbody>\n",
       "    <tr>\n",
       "      <th>0</th>\n",
       "      <td>604399</td>\n",
       "      <td>f</td>\n",
       "      <td>22-10-1990</td>\n",
       "      <td>87.80</td>\n",
       "      <td>cbse</td>\n",
       "      <td>2009</td>\n",
       "      <td>84.00</td>\n",
       "      <td>cbse</td>\n",
       "      <td>6920</td>\n",
       "      <td>1</td>\n",
       "      <td>...</td>\n",
       "      <td>-1</td>\n",
       "      <td>-1</td>\n",
       "      <td>-1</td>\n",
       "      <td>-1</td>\n",
       "      <td>-0.1590</td>\n",
       "      <td>0.3789</td>\n",
       "      <td>1.2396</td>\n",
       "      <td>0.14590</td>\n",
       "      <td>0.2889</td>\n",
       "      <td>445000</td>\n",
       "    </tr>\n",
       "    <tr>\n",
       "      <th>1</th>\n",
       "      <td>988334</td>\n",
       "      <td>m</td>\n",
       "      <td>15-05-1990</td>\n",
       "      <td>57.00</td>\n",
       "      <td>cbse</td>\n",
       "      <td>2010</td>\n",
       "      <td>64.50</td>\n",
       "      <td>cbse</td>\n",
       "      <td>6624</td>\n",
       "      <td>2</td>\n",
       "      <td>...</td>\n",
       "      <td>-1</td>\n",
       "      <td>-1</td>\n",
       "      <td>-1</td>\n",
       "      <td>-1</td>\n",
       "      <td>1.1336</td>\n",
       "      <td>0.0459</td>\n",
       "      <td>1.2396</td>\n",
       "      <td>0.52620</td>\n",
       "      <td>-0.2859</td>\n",
       "      <td>110000</td>\n",
       "    </tr>\n",
       "    <tr>\n",
       "      <th>2</th>\n",
       "      <td>301647</td>\n",
       "      <td>m</td>\n",
       "      <td>21-08-1989</td>\n",
       "      <td>77.33</td>\n",
       "      <td>maharashtra state board,pune</td>\n",
       "      <td>2007</td>\n",
       "      <td>85.17</td>\n",
       "      <td>amravati divisional board</td>\n",
       "      <td>9084</td>\n",
       "      <td>2</td>\n",
       "      <td>...</td>\n",
       "      <td>-1</td>\n",
       "      <td>-1</td>\n",
       "      <td>260</td>\n",
       "      <td>-1</td>\n",
       "      <td>0.5100</td>\n",
       "      <td>-0.1232</td>\n",
       "      <td>1.5428</td>\n",
       "      <td>-0.29020</td>\n",
       "      <td>-0.2875</td>\n",
       "      <td>255000</td>\n",
       "    </tr>\n",
       "    <tr>\n",
       "      <th>3</th>\n",
       "      <td>582313</td>\n",
       "      <td>m</td>\n",
       "      <td>04-05-1991</td>\n",
       "      <td>84.30</td>\n",
       "      <td>cbse</td>\n",
       "      <td>2009</td>\n",
       "      <td>86.00</td>\n",
       "      <td>cbse</td>\n",
       "      <td>8195</td>\n",
       "      <td>1</td>\n",
       "      <td>...</td>\n",
       "      <td>-1</td>\n",
       "      <td>-1</td>\n",
       "      <td>-1</td>\n",
       "      <td>-1</td>\n",
       "      <td>-0.4463</td>\n",
       "      <td>0.2124</td>\n",
       "      <td>0.3174</td>\n",
       "      <td>0.27270</td>\n",
       "      <td>0.4805</td>\n",
       "      <td>420000</td>\n",
       "    </tr>\n",
       "    <tr>\n",
       "      <th>4</th>\n",
       "      <td>339001</td>\n",
       "      <td>f</td>\n",
       "      <td>30-10-1990</td>\n",
       "      <td>82.00</td>\n",
       "      <td>cbse</td>\n",
       "      <td>2008</td>\n",
       "      <td>75.00</td>\n",
       "      <td>cbse</td>\n",
       "      <td>4889</td>\n",
       "      <td>2</td>\n",
       "      <td>...</td>\n",
       "      <td>-1</td>\n",
       "      <td>-1</td>\n",
       "      <td>-1</td>\n",
       "      <td>-1</td>\n",
       "      <td>-1.4992</td>\n",
       "      <td>-0.7473</td>\n",
       "      <td>-1.0697</td>\n",
       "      <td>0.06223</td>\n",
       "      <td>0.1864</td>\n",
       "      <td>200000</td>\n",
       "    </tr>\n",
       "  </tbody>\n",
       "</table>\n",
       "<p>5 rows × 34 columns</p>\n",
       "</div>"
      ],
      "text/plain": [
       "       ID Gender         DOB  10percentage                       10board  \\\n",
       "0  604399      f  22-10-1990         87.80                          cbse   \n",
       "1  988334      m  15-05-1990         57.00                          cbse   \n",
       "2  301647      m  21-08-1989         77.33  maharashtra state board,pune   \n",
       "3  582313      m  04-05-1991         84.30                          cbse   \n",
       "4  339001      f  30-10-1990         82.00                          cbse   \n",
       "\n",
       "   12graduation  12percentage                    12board  CollegeID  \\\n",
       "0          2009         84.00                       cbse       6920   \n",
       "1          2010         64.50                       cbse       6624   \n",
       "2          2007         85.17  amravati divisional board       9084   \n",
       "3          2009         86.00                       cbse       8195   \n",
       "4          2008         75.00                       cbse       4889   \n",
       "\n",
       "   CollegeTier  ... MechanicalEngg ElectricalEngg  TelecomEngg  CivilEngg  \\\n",
       "0            1  ...             -1             -1           -1         -1   \n",
       "1            2  ...             -1             -1           -1         -1   \n",
       "2            2  ...             -1             -1          260         -1   \n",
       "3            1  ...             -1             -1           -1         -1   \n",
       "4            2  ...             -1             -1           -1         -1   \n",
       "\n",
       "   conscientiousness agreeableness  extraversion  nueroticism  \\\n",
       "0            -0.1590        0.3789        1.2396      0.14590   \n",
       "1             1.1336        0.0459        1.2396      0.52620   \n",
       "2             0.5100       -0.1232        1.5428     -0.29020   \n",
       "3            -0.4463        0.2124        0.3174      0.27270   \n",
       "4            -1.4992       -0.7473       -1.0697      0.06223   \n",
       "\n",
       "   openess_to_experience  Salary  \n",
       "0                 0.2889  445000  \n",
       "1                -0.2859  110000  \n",
       "2                -0.2875  255000  \n",
       "3                 0.4805  420000  \n",
       "4                 0.1864  200000  \n",
       "\n",
       "[5 rows x 34 columns]"
      ]
     },
     "execution_count": 44,
     "metadata": {},
     "output_type": "execute_result"
    }
   ],
   "source": [
    "df.head()"
   ]
  },
  {
   "cell_type": "code",
   "execution_count": 45,
   "metadata": {},
   "outputs": [
    {
     "data": {
      "text/plain": [
       "ID                       0\n",
       "Gender                   0\n",
       "DOB                      0\n",
       "10percentage             0\n",
       "10board                  0\n",
       "12graduation             0\n",
       "12percentage             0\n",
       "12board                  0\n",
       "CollegeID                0\n",
       "CollegeTier              0\n",
       "Degree                   0\n",
       "Specialization           0\n",
       "collegeGPA               0\n",
       "CollegeCityID            0\n",
       "CollegeCityTier          0\n",
       "CollegeState             0\n",
       "GraduationYear           0\n",
       "English                  0\n",
       "Logical                  0\n",
       "Quant                    0\n",
       "Domain                   0\n",
       "ComputerProgramming      0\n",
       "ElectronicsAndSemicon    0\n",
       "ComputerScience          0\n",
       "MechanicalEngg           0\n",
       "ElectricalEngg           0\n",
       "TelecomEngg              0\n",
       "CivilEngg                0\n",
       "conscientiousness        0\n",
       "agreeableness            0\n",
       "extraversion             0\n",
       "nueroticism              0\n",
       "openess_to_experience    0\n",
       "Salary                   0\n",
       "dtype: int64"
      ]
     },
     "execution_count": 45,
     "metadata": {},
     "output_type": "execute_result"
    }
   ],
   "source": [
    "##check missing values\n",
    "df.isnull().sum()"
   ]
  },
  {
   "cell_type": "code",
   "execution_count": 46,
   "metadata": {
    "scrolled": true
   },
   "outputs": [
    {
     "data": {
      "text/html": [
       "<div>\n",
       "<style scoped>\n",
       "    .dataframe tbody tr th:only-of-type {\n",
       "        vertical-align: middle;\n",
       "    }\n",
       "\n",
       "    .dataframe tbody tr th {\n",
       "        vertical-align: top;\n",
       "    }\n",
       "\n",
       "    .dataframe thead th {\n",
       "        text-align: right;\n",
       "    }\n",
       "</style>\n",
       "<table border=\"1\" class=\"dataframe\">\n",
       "  <thead>\n",
       "    <tr style=\"text-align: right;\">\n",
       "      <th></th>\n",
       "      <th>ID</th>\n",
       "      <th>10percentage</th>\n",
       "      <th>12graduation</th>\n",
       "      <th>12percentage</th>\n",
       "      <th>CollegeID</th>\n",
       "      <th>CollegeTier</th>\n",
       "      <th>collegeGPA</th>\n",
       "      <th>CollegeCityID</th>\n",
       "      <th>CollegeCityTier</th>\n",
       "      <th>GraduationYear</th>\n",
       "      <th>...</th>\n",
       "      <th>MechanicalEngg</th>\n",
       "      <th>ElectricalEngg</th>\n",
       "      <th>TelecomEngg</th>\n",
       "      <th>CivilEngg</th>\n",
       "      <th>conscientiousness</th>\n",
       "      <th>agreeableness</th>\n",
       "      <th>extraversion</th>\n",
       "      <th>nueroticism</th>\n",
       "      <th>openess_to_experience</th>\n",
       "      <th>Salary</th>\n",
       "    </tr>\n",
       "  </thead>\n",
       "  <tbody>\n",
       "    <tr>\n",
       "      <th>count</th>\n",
       "      <td>2.998000e+03</td>\n",
       "      <td>2998.000000</td>\n",
       "      <td>2998.000000</td>\n",
       "      <td>2998.000000</td>\n",
       "      <td>2998.000000</td>\n",
       "      <td>2998.000000</td>\n",
       "      <td>2998.000000</td>\n",
       "      <td>2998.000000</td>\n",
       "      <td>2998.000000</td>\n",
       "      <td>2998.000000</td>\n",
       "      <td>...</td>\n",
       "      <td>2998.000000</td>\n",
       "      <td>2998.000000</td>\n",
       "      <td>2998.000000</td>\n",
       "      <td>2998.000000</td>\n",
       "      <td>2998.000000</td>\n",
       "      <td>2998.000000</td>\n",
       "      <td>2998.000000</td>\n",
       "      <td>2998.000000</td>\n",
       "      <td>2998.000000</td>\n",
       "      <td>2.998000e+03</td>\n",
       "    </tr>\n",
       "    <tr>\n",
       "      <th>mean</th>\n",
       "      <td>6.648926e+05</td>\n",
       "      <td>77.666264</td>\n",
       "      <td>2008.080720</td>\n",
       "      <td>74.341061</td>\n",
       "      <td>5210.210807</td>\n",
       "      <td>1.924616</td>\n",
       "      <td>71.509857</td>\n",
       "      <td>5210.210807</td>\n",
       "      <td>0.296197</td>\n",
       "      <td>2011.939960</td>\n",
       "      <td>...</td>\n",
       "      <td>24.138759</td>\n",
       "      <td>16.267845</td>\n",
       "      <td>31.068379</td>\n",
       "      <td>1.946965</td>\n",
       "      <td>-0.038714</td>\n",
       "      <td>0.126217</td>\n",
       "      <td>-0.008662</td>\n",
       "      <td>-0.145965</td>\n",
       "      <td>-0.141111</td>\n",
       "      <td>3.051748e+05</td>\n",
       "    </tr>\n",
       "    <tr>\n",
       "      <th>std</th>\n",
       "      <td>3.648951e+05</td>\n",
       "      <td>10.002785</td>\n",
       "      <td>1.631814</td>\n",
       "      <td>11.120299</td>\n",
       "      <td>4776.609877</td>\n",
       "      <td>0.264053</td>\n",
       "      <td>8.122462</td>\n",
       "      <td>4776.609877</td>\n",
       "      <td>0.456655</td>\n",
       "      <td>36.780582</td>\n",
       "      <td>...</td>\n",
       "      <td>99.785138</td>\n",
       "      <td>86.054739</td>\n",
       "      <td>103.552963</td>\n",
       "      <td>32.241501</td>\n",
       "      <td>1.024974</td>\n",
       "      <td>0.955831</td>\n",
       "      <td>0.962695</td>\n",
       "      <td>1.012901</td>\n",
       "      <td>1.007134</td>\n",
       "      <td>2.123312e+05</td>\n",
       "    </tr>\n",
       "    <tr>\n",
       "      <th>min</th>\n",
       "      <td>1.124400e+04</td>\n",
       "      <td>43.000000</td>\n",
       "      <td>1998.000000</td>\n",
       "      <td>40.000000</td>\n",
       "      <td>2.000000</td>\n",
       "      <td>1.000000</td>\n",
       "      <td>6.630000</td>\n",
       "      <td>2.000000</td>\n",
       "      <td>0.000000</td>\n",
       "      <td>0.000000</td>\n",
       "      <td>...</td>\n",
       "      <td>-1.000000</td>\n",
       "      <td>-1.000000</td>\n",
       "      <td>-1.000000</td>\n",
       "      <td>-1.000000</td>\n",
       "      <td>-3.893300</td>\n",
       "      <td>-5.781600</td>\n",
       "      <td>-4.600900</td>\n",
       "      <td>-2.643000</td>\n",
       "      <td>-7.375700</td>\n",
       "      <td>3.500000e+04</td>\n",
       "    </tr>\n",
       "    <tr>\n",
       "      <th>25%</th>\n",
       "      <td>3.334648e+05</td>\n",
       "      <td>71.140000</td>\n",
       "      <td>2007.000000</td>\n",
       "      <td>66.000000</td>\n",
       "      <td>526.250000</td>\n",
       "      <td>2.000000</td>\n",
       "      <td>66.530000</td>\n",
       "      <td>526.250000</td>\n",
       "      <td>0.000000</td>\n",
       "      <td>2012.000000</td>\n",
       "      <td>...</td>\n",
       "      <td>-1.000000</td>\n",
       "      <td>-1.000000</td>\n",
       "      <td>-1.000000</td>\n",
       "      <td>-1.000000</td>\n",
       "      <td>-0.649100</td>\n",
       "      <td>-0.435300</td>\n",
       "      <td>-0.604800</td>\n",
       "      <td>-0.868200</td>\n",
       "      <td>-0.669200</td>\n",
       "      <td>1.800000e+05</td>\n",
       "    </tr>\n",
       "    <tr>\n",
       "      <th>50%</th>\n",
       "      <td>6.396945e+05</td>\n",
       "      <td>78.965000</td>\n",
       "      <td>2008.000000</td>\n",
       "      <td>74.000000</td>\n",
       "      <td>4027.500000</td>\n",
       "      <td>2.000000</td>\n",
       "      <td>71.800000</td>\n",
       "      <td>4027.500000</td>\n",
       "      <td>0.000000</td>\n",
       "      <td>2013.000000</td>\n",
       "      <td>...</td>\n",
       "      <td>-1.000000</td>\n",
       "      <td>-1.000000</td>\n",
       "      <td>-1.000000</td>\n",
       "      <td>-1.000000</td>\n",
       "      <td>0.046400</td>\n",
       "      <td>0.212400</td>\n",
       "      <td>0.091400</td>\n",
       "      <td>-0.172700</td>\n",
       "      <td>-0.094300</td>\n",
       "      <td>3.000000e+05</td>\n",
       "    </tr>\n",
       "    <tr>\n",
       "      <th>75%</th>\n",
       "      <td>9.951770e+05</td>\n",
       "      <td>85.600000</td>\n",
       "      <td>2009.000000</td>\n",
       "      <td>82.600000</td>\n",
       "      <td>8822.250000</td>\n",
       "      <td>2.000000</td>\n",
       "      <td>76.300000</td>\n",
       "      <td>8822.250000</td>\n",
       "      <td>1.000000</td>\n",
       "      <td>2014.000000</td>\n",
       "      <td>...</td>\n",
       "      <td>-1.000000</td>\n",
       "      <td>-1.000000</td>\n",
       "      <td>-1.000000</td>\n",
       "      <td>-1.000000</td>\n",
       "      <td>0.702700</td>\n",
       "      <td>0.812800</td>\n",
       "      <td>0.672000</td>\n",
       "      <td>0.526200</td>\n",
       "      <td>0.502400</td>\n",
       "      <td>3.700000e+05</td>\n",
       "    </tr>\n",
       "    <tr>\n",
       "      <th>max</th>\n",
       "      <td>1.297877e+06</td>\n",
       "      <td>97.760000</td>\n",
       "      <td>2012.000000</td>\n",
       "      <td>98.700000</td>\n",
       "      <td>18409.000000</td>\n",
       "      <td>2.000000</td>\n",
       "      <td>99.930000</td>\n",
       "      <td>18409.000000</td>\n",
       "      <td>1.000000</td>\n",
       "      <td>2017.000000</td>\n",
       "      <td>...</td>\n",
       "      <td>623.000000</td>\n",
       "      <td>660.000000</td>\n",
       "      <td>548.000000</td>\n",
       "      <td>500.000000</td>\n",
       "      <td>1.995300</td>\n",
       "      <td>1.904800</td>\n",
       "      <td>2.161700</td>\n",
       "      <td>3.352500</td>\n",
       "      <td>1.630200</td>\n",
       "      <td>4.000000e+06</td>\n",
       "    </tr>\n",
       "  </tbody>\n",
       "</table>\n",
       "<p>8 rows × 27 columns</p>\n",
       "</div>"
      ],
      "text/plain": [
       "                 ID  10percentage  12graduation  12percentage     CollegeID  \\\n",
       "count  2.998000e+03   2998.000000   2998.000000   2998.000000   2998.000000   \n",
       "mean   6.648926e+05     77.666264   2008.080720     74.341061   5210.210807   \n",
       "std    3.648951e+05     10.002785      1.631814     11.120299   4776.609877   \n",
       "min    1.124400e+04     43.000000   1998.000000     40.000000      2.000000   \n",
       "25%    3.334648e+05     71.140000   2007.000000     66.000000    526.250000   \n",
       "50%    6.396945e+05     78.965000   2008.000000     74.000000   4027.500000   \n",
       "75%    9.951770e+05     85.600000   2009.000000     82.600000   8822.250000   \n",
       "max    1.297877e+06     97.760000   2012.000000     98.700000  18409.000000   \n",
       "\n",
       "       CollegeTier   collegeGPA  CollegeCityID  CollegeCityTier  \\\n",
       "count  2998.000000  2998.000000    2998.000000      2998.000000   \n",
       "mean      1.924616    71.509857    5210.210807         0.296197   \n",
       "std       0.264053     8.122462    4776.609877         0.456655   \n",
       "min       1.000000     6.630000       2.000000         0.000000   \n",
       "25%       2.000000    66.530000     526.250000         0.000000   \n",
       "50%       2.000000    71.800000    4027.500000         0.000000   \n",
       "75%       2.000000    76.300000    8822.250000         1.000000   \n",
       "max       2.000000    99.930000   18409.000000         1.000000   \n",
       "\n",
       "       GraduationYear  ...  MechanicalEngg  ElectricalEngg  TelecomEngg  \\\n",
       "count     2998.000000  ...     2998.000000     2998.000000  2998.000000   \n",
       "mean      2011.939960  ...       24.138759       16.267845    31.068379   \n",
       "std         36.780582  ...       99.785138       86.054739   103.552963   \n",
       "min          0.000000  ...       -1.000000       -1.000000    -1.000000   \n",
       "25%       2012.000000  ...       -1.000000       -1.000000    -1.000000   \n",
       "50%       2013.000000  ...       -1.000000       -1.000000    -1.000000   \n",
       "75%       2014.000000  ...       -1.000000       -1.000000    -1.000000   \n",
       "max       2017.000000  ...      623.000000      660.000000   548.000000   \n",
       "\n",
       "         CivilEngg  conscientiousness  agreeableness  extraversion  \\\n",
       "count  2998.000000        2998.000000    2998.000000   2998.000000   \n",
       "mean      1.946965          -0.038714       0.126217     -0.008662   \n",
       "std      32.241501           1.024974       0.955831      0.962695   \n",
       "min      -1.000000          -3.893300      -5.781600     -4.600900   \n",
       "25%      -1.000000          -0.649100      -0.435300     -0.604800   \n",
       "50%      -1.000000           0.046400       0.212400      0.091400   \n",
       "75%      -1.000000           0.702700       0.812800      0.672000   \n",
       "max     500.000000           1.995300       1.904800      2.161700   \n",
       "\n",
       "       nueroticism  openess_to_experience        Salary  \n",
       "count  2998.000000            2998.000000  2.998000e+03  \n",
       "mean     -0.145965              -0.141111  3.051748e+05  \n",
       "std       1.012901               1.007134  2.123312e+05  \n",
       "min      -2.643000              -7.375700  3.500000e+04  \n",
       "25%      -0.868200              -0.669200  1.800000e+05  \n",
       "50%      -0.172700              -0.094300  3.000000e+05  \n",
       "75%       0.526200               0.502400  3.700000e+05  \n",
       "max       3.352500               1.630200  4.000000e+06  \n",
       "\n",
       "[8 rows x 27 columns]"
      ]
     },
     "execution_count": 46,
     "metadata": {},
     "output_type": "execute_result"
    }
   ],
   "source": [
    "df.describe()"
   ]
  },
  {
   "cell_type": "code",
   "execution_count": 47,
   "metadata": {},
   "outputs": [
    {
     "data": {
      "text/plain": [
       "['12board',\n",
       " 'Gender',\n",
       " '10board',\n",
       " 'Degree',\n",
       " 'Specialization',\n",
       " 'CollegeState',\n",
       " 'DOB']"
      ]
     },
     "execution_count": 47,
     "metadata": {},
     "output_type": "execute_result"
    }
   ],
   "source": [
    "#Finding columns having categorical data\n",
    "cols = df.columns\n",
    "num_cols = df._get_numeric_data().columns\n",
    "cat_cols = list(set(cols) - set(num_cols))\n",
    "cat_cols"
   ]
  },
  {
   "cell_type": "code",
   "execution_count": 48,
   "metadata": {
    "scrolled": false
   },
   "outputs": [
    {
     "name": "stdout",
     "output_type": "stream",
     "text": [
      "m    2282\n",
      "f     716\n",
      "Name: Gender, dtype: int64\n",
      "2    2772\n",
      "1     226\n",
      "Name: CollegeTier, dtype: int64\n",
      "B.Tech/B.E.      2757\n",
      "MCA               200\n",
      "M.Tech./M.E.       40\n",
      "M.Sc. (Tech.)       1\n",
      "Name: Degree, dtype: int64\n",
      "electronics and communication engineering      670\n",
      "computer science & engineering                 557\n",
      "information technology                         506\n",
      "computer engineering                           415\n",
      "computer application                           201\n",
      "mechanical engineering                         155\n",
      "electronics and electrical engineering         148\n",
      "electronics & telecommunications                89\n",
      "electrical engineering                          63\n",
      "electronics & instrumentation eng               24\n",
      "electronics and instrumentation engineering     18\n",
      "information science engineering                 18\n",
      "instrumentation and control engineering         18\n",
      "civil engineering                               15\n",
      "electronics engineering                         13\n",
      "biotechnology                                   12\n",
      "other                                           10\n",
      "industrial & production engineering              8\n",
      "chemical engineering                             7\n",
      "mechanical and automation                        5\n",
      "applied electronics and instrumentation          5\n",
      "computer science and technology                  4\n",
      "telecommunication engineering                    4\n",
      "automobile/automotive engineering                4\n",
      "electronics and computer engineering             3\n",
      "aeronautical engineering                         3\n",
      "instrumentation engineering                      3\n",
      "mechatronics                                     3\n",
      "industrial engineering                           2\n",
      "biomedical engineering                           2\n",
      "metallurgical engineering                        2\n",
      "electrical and power engineering                 1\n",
      "information science                              1\n",
      "computer networking                              1\n",
      "information & communication technology           1\n",
      "embedded systems technology                      1\n",
      "industrial & management engineering              1\n",
      "ceramic engineering                              1\n",
      "control and instrumentation engineering          1\n",
      "computer and communication engineering           1\n",
      "electronics                                      1\n",
      "mechanical & production engineering              1\n",
      "Name: Specialization, dtype: int64\n",
      "Uttar Pradesh        698\n",
      "Karnataka            281\n",
      "Tamil Nadu           264\n",
      "Telangana            249\n",
      "Maharashtra          189\n",
      "Andhra Pradesh       172\n",
      "West Bengal          145\n",
      "Madhya Pradesh       144\n",
      "Punjab               141\n",
      "Haryana              136\n",
      "Orissa               130\n",
      "Rajasthan            126\n",
      "Delhi                122\n",
      "Uttarakhand           81\n",
      "Kerala                24\n",
      "Jharkhand             20\n",
      "Gujarat               18\n",
      "Chhattisgarh          17\n",
      "Himachal Pradesh      13\n",
      "Bihar                  8\n",
      "Union Territory        5\n",
      "Jammu and Kashmir      5\n",
      "Assam                  5\n",
      "Sikkim                 2\n",
      "Meghalaya              2\n",
      "Goa                    1\n",
      "Name: CollegeState, dtype: int64\n",
      "2009    793\n",
      "2008    702\n",
      "2010    548\n",
      "2007    394\n",
      "2006    311\n",
      "2005    127\n",
      "2004     54\n",
      "2011     31\n",
      "2003     17\n",
      "2012      9\n",
      "2002      9\n",
      "2001      2\n",
      "1998      1\n",
      "Name: 12graduation, dtype: int64\n",
      "2013    884\n",
      "2014    784\n",
      "2012    641\n",
      "2011    382\n",
      "2010    214\n",
      "2015     64\n",
      "2009     16\n",
      "2017      7\n",
      "2016      4\n",
      "2007      1\n",
      "0         1\n",
      "Name: GraduationYear, dtype: int64\n",
      "0    2110\n",
      "1     888\n",
      "Name: CollegeCityTier, dtype: int64\n"
     ]
    }
   ],
   "source": [
    "print(df[\"Gender\"].value_counts())\n",
    "print(df[\"CollegeTier\"].value_counts())\n",
    "print(df[\"Degree\"].value_counts())\n",
    "print(df[\"Specialization\"].value_counts())\n",
    "print(df[\"CollegeState\"].value_counts())\n",
    "print(df[\"12graduation\"].value_counts())\n",
    "print(df[\"GraduationYear\"].value_counts())\n",
    "print(df[\"CollegeCityTier\"].value_counts())"
   ]
  },
  {
   "cell_type": "code",
   "execution_count": 49,
   "metadata": {},
   "outputs": [
    {
     "name": "stdout",
     "output_type": "stream",
     "text": [
      "42\n"
     ]
    }
   ],
   "source": [
    "print(len(df[\"Specialization\"].unique()))"
   ]
  },
  {
   "cell_type": "code",
   "execution_count": 50,
   "metadata": {},
   "outputs": [],
   "source": [
    "df['GraduationYear'] = 2020 - df['GraduationYear']\n",
    "df['12graduation'] = 2020 - df['12graduation']"
   ]
  },
  {
   "cell_type": "code",
   "execution_count": 51,
   "metadata": {},
   "outputs": [
    {
     "data": {
      "text/plain": [
       "pandas.core.series.Series"
      ]
     },
     "execution_count": 51,
     "metadata": {},
     "output_type": "execute_result"
    }
   ],
   "source": [
    "type(df['12graduation'])"
   ]
  },
  {
   "cell_type": "code",
   "execution_count": 52,
   "metadata": {},
   "outputs": [],
   "source": [
    "df = df.drop([\"ID\", \"DOB\",\"10board\", \"12board\", \"CollegeID\", \"CollegeCityID\"], axis = 1)"
   ]
  },
  {
   "cell_type": "code",
   "execution_count": 53,
   "metadata": {},
   "outputs": [
    {
     "data": {
      "text/plain": [
       "(2998, 28)"
      ]
     },
     "execution_count": 53,
     "metadata": {},
     "output_type": "execute_result"
    }
   ],
   "source": [
    "df.shape"
   ]
  },
  {
   "cell_type": "code",
   "execution_count": 54,
   "metadata": {
    "scrolled": true
   },
   "outputs": [
    {
     "data": {
      "text/plain": [
       "electronics and communication engineering    670\n",
       "computer science & engineering               557\n",
       "information technology                       506\n",
       "computer engineering                         415\n",
       "computer application                         201\n",
       "mechanical engineering                       155\n",
       "electronics and electrical engineering       148\n",
       "electronics & telecommunications              89\n",
       "electrical engineering                        63\n",
       "electronics & instrumentation eng             24\n",
       "Name: Specialization, dtype: int64"
      ]
     },
     "execution_count": 54,
     "metadata": {},
     "output_type": "execute_result"
    }
   ],
   "source": [
    "df[\"Specialization\"].value_counts().sort_values(ascending=False).head(10)"
   ]
  },
  {
   "cell_type": "code",
   "execution_count": 62,
   "metadata": {},
   "outputs": [
    {
     "data": {
      "text/plain": [
       "Uttar Pradesh     698\n",
       "Karnataka         281\n",
       "Tamil Nadu        264\n",
       "Telangana         249\n",
       "Maharashtra       189\n",
       "Andhra Pradesh    172\n",
       "West Bengal       145\n",
       "Madhya Pradesh    144\n",
       "Punjab            141\n",
       "Haryana           136\n",
       "Name: CollegeState, dtype: int64"
      ]
     },
     "execution_count": 62,
     "metadata": {},
     "output_type": "execute_result"
    }
   ],
   "source": [
    "df[\"CollegeState\"].value_counts().sort_values(ascending=False).head(10)"
   ]
  },
  {
   "cell_type": "code",
   "execution_count": 55,
   "metadata": {
    "scrolled": true
   },
   "outputs": [
    {
     "data": {
      "text/plain": [
       "['electronics and communication engineering',\n",
       " 'computer science & engineering',\n",
       " 'information technology',\n",
       " 'computer engineering',\n",
       " 'computer application',\n",
       " 'mechanical engineering',\n",
       " 'electronics and electrical engineering',\n",
       " 'electronics & telecommunications',\n",
       " 'electrical engineering',\n",
       " 'electronics & instrumentation eng']"
      ]
     },
     "execution_count": 55,
     "metadata": {},
     "output_type": "execute_result"
    }
   ],
   "source": [
    "top_10 = [x for x in df[\"Specialization\"].value_counts().sort_values(ascending=False).head(10).index]\n",
    "top_10"
   ]
  },
  {
   "cell_type": "code",
   "execution_count": 57,
   "metadata": {},
   "outputs": [
    {
     "data": {
      "text/html": [
       "<div>\n",
       "<style scoped>\n",
       "    .dataframe tbody tr th:only-of-type {\n",
       "        vertical-align: middle;\n",
       "    }\n",
       "\n",
       "    .dataframe tbody tr th {\n",
       "        vertical-align: top;\n",
       "    }\n",
       "\n",
       "    .dataframe thead th {\n",
       "        text-align: right;\n",
       "    }\n",
       "</style>\n",
       "<table border=\"1\" class=\"dataframe\">\n",
       "  <thead>\n",
       "    <tr style=\"text-align: right;\">\n",
       "      <th></th>\n",
       "      <th>Specialization</th>\n",
       "      <th>electronics and communication engineering</th>\n",
       "      <th>computer science &amp; engineering</th>\n",
       "      <th>information technology</th>\n",
       "      <th>computer engineering</th>\n",
       "      <th>computer application</th>\n",
       "      <th>mechanical engineering</th>\n",
       "      <th>electronics and electrical engineering</th>\n",
       "      <th>electronics &amp; telecommunications</th>\n",
       "      <th>electrical engineering</th>\n",
       "      <th>electronics &amp; instrumentation eng</th>\n",
       "    </tr>\n",
       "  </thead>\n",
       "  <tbody>\n",
       "    <tr>\n",
       "      <th>0</th>\n",
       "      <td>instrumentation and control engineering</td>\n",
       "      <td>0</td>\n",
       "      <td>0</td>\n",
       "      <td>0</td>\n",
       "      <td>0</td>\n",
       "      <td>0</td>\n",
       "      <td>0</td>\n",
       "      <td>0</td>\n",
       "      <td>0</td>\n",
       "      <td>0</td>\n",
       "      <td>0</td>\n",
       "    </tr>\n",
       "    <tr>\n",
       "      <th>1</th>\n",
       "      <td>computer science &amp; engineering</td>\n",
       "      <td>0</td>\n",
       "      <td>1</td>\n",
       "      <td>0</td>\n",
       "      <td>0</td>\n",
       "      <td>0</td>\n",
       "      <td>0</td>\n",
       "      <td>0</td>\n",
       "      <td>0</td>\n",
       "      <td>0</td>\n",
       "      <td>0</td>\n",
       "    </tr>\n",
       "    <tr>\n",
       "      <th>2</th>\n",
       "      <td>electronics &amp; telecommunications</td>\n",
       "      <td>0</td>\n",
       "      <td>0</td>\n",
       "      <td>0</td>\n",
       "      <td>0</td>\n",
       "      <td>0</td>\n",
       "      <td>0</td>\n",
       "      <td>0</td>\n",
       "      <td>1</td>\n",
       "      <td>0</td>\n",
       "      <td>0</td>\n",
       "    </tr>\n",
       "    <tr>\n",
       "      <th>3</th>\n",
       "      <td>computer science &amp; engineering</td>\n",
       "      <td>0</td>\n",
       "      <td>1</td>\n",
       "      <td>0</td>\n",
       "      <td>0</td>\n",
       "      <td>0</td>\n",
       "      <td>0</td>\n",
       "      <td>0</td>\n",
       "      <td>0</td>\n",
       "      <td>0</td>\n",
       "      <td>0</td>\n",
       "    </tr>\n",
       "    <tr>\n",
       "      <th>4</th>\n",
       "      <td>biotechnology</td>\n",
       "      <td>0</td>\n",
       "      <td>0</td>\n",
       "      <td>0</td>\n",
       "      <td>0</td>\n",
       "      <td>0</td>\n",
       "      <td>0</td>\n",
       "      <td>0</td>\n",
       "      <td>0</td>\n",
       "      <td>0</td>\n",
       "      <td>0</td>\n",
       "    </tr>\n",
       "    <tr>\n",
       "      <th>5</th>\n",
       "      <td>instrumentation and control engineering</td>\n",
       "      <td>0</td>\n",
       "      <td>0</td>\n",
       "      <td>0</td>\n",
       "      <td>0</td>\n",
       "      <td>0</td>\n",
       "      <td>0</td>\n",
       "      <td>0</td>\n",
       "      <td>0</td>\n",
       "      <td>0</td>\n",
       "      <td>0</td>\n",
       "    </tr>\n",
       "    <tr>\n",
       "      <th>6</th>\n",
       "      <td>mechanical engineering</td>\n",
       "      <td>0</td>\n",
       "      <td>0</td>\n",
       "      <td>0</td>\n",
       "      <td>0</td>\n",
       "      <td>0</td>\n",
       "      <td>1</td>\n",
       "      <td>0</td>\n",
       "      <td>0</td>\n",
       "      <td>0</td>\n",
       "      <td>0</td>\n",
       "    </tr>\n",
       "    <tr>\n",
       "      <th>7</th>\n",
       "      <td>computer science &amp; engineering</td>\n",
       "      <td>0</td>\n",
       "      <td>1</td>\n",
       "      <td>0</td>\n",
       "      <td>0</td>\n",
       "      <td>0</td>\n",
       "      <td>0</td>\n",
       "      <td>0</td>\n",
       "      <td>0</td>\n",
       "      <td>0</td>\n",
       "      <td>0</td>\n",
       "    </tr>\n",
       "    <tr>\n",
       "      <th>8</th>\n",
       "      <td>information technology</td>\n",
       "      <td>0</td>\n",
       "      <td>0</td>\n",
       "      <td>1</td>\n",
       "      <td>0</td>\n",
       "      <td>0</td>\n",
       "      <td>0</td>\n",
       "      <td>0</td>\n",
       "      <td>0</td>\n",
       "      <td>0</td>\n",
       "      <td>0</td>\n",
       "    </tr>\n",
       "    <tr>\n",
       "      <th>9</th>\n",
       "      <td>computer science &amp; engineering</td>\n",
       "      <td>0</td>\n",
       "      <td>1</td>\n",
       "      <td>0</td>\n",
       "      <td>0</td>\n",
       "      <td>0</td>\n",
       "      <td>0</td>\n",
       "      <td>0</td>\n",
       "      <td>0</td>\n",
       "      <td>0</td>\n",
       "      <td>0</td>\n",
       "    </tr>\n",
       "  </tbody>\n",
       "</table>\n",
       "</div>"
      ],
      "text/plain": [
       "                            Specialization  \\\n",
       "0  instrumentation and control engineering   \n",
       "1           computer science & engineering   \n",
       "2         electronics & telecommunications   \n",
       "3           computer science & engineering   \n",
       "4                            biotechnology   \n",
       "5  instrumentation and control engineering   \n",
       "6                   mechanical engineering   \n",
       "7           computer science & engineering   \n",
       "8                   information technology   \n",
       "9           computer science & engineering   \n",
       "\n",
       "   electronics and communication engineering  computer science & engineering  \\\n",
       "0                                          0                               0   \n",
       "1                                          0                               1   \n",
       "2                                          0                               0   \n",
       "3                                          0                               1   \n",
       "4                                          0                               0   \n",
       "5                                          0                               0   \n",
       "6                                          0                               0   \n",
       "7                                          0                               1   \n",
       "8                                          0                               0   \n",
       "9                                          0                               1   \n",
       "\n",
       "   information technology  computer engineering  computer application  \\\n",
       "0                       0                     0                     0   \n",
       "1                       0                     0                     0   \n",
       "2                       0                     0                     0   \n",
       "3                       0                     0                     0   \n",
       "4                       0                     0                     0   \n",
       "5                       0                     0                     0   \n",
       "6                       0                     0                     0   \n",
       "7                       0                     0                     0   \n",
       "8                       1                     0                     0   \n",
       "9                       0                     0                     0   \n",
       "\n",
       "   mechanical engineering  electronics and electrical engineering  \\\n",
       "0                       0                                       0   \n",
       "1                       0                                       0   \n",
       "2                       0                                       0   \n",
       "3                       0                                       0   \n",
       "4                       0                                       0   \n",
       "5                       0                                       0   \n",
       "6                       1                                       0   \n",
       "7                       0                                       0   \n",
       "8                       0                                       0   \n",
       "9                       0                                       0   \n",
       "\n",
       "   electronics & telecommunications  electrical engineering  \\\n",
       "0                                 0                       0   \n",
       "1                                 0                       0   \n",
       "2                                 1                       0   \n",
       "3                                 0                       0   \n",
       "4                                 0                       0   \n",
       "5                                 0                       0   \n",
       "6                                 0                       0   \n",
       "7                                 0                       0   \n",
       "8                                 0                       0   \n",
       "9                                 0                       0   \n",
       "\n",
       "   electronics & instrumentation eng  \n",
       "0                                  0  \n",
       "1                                  0  \n",
       "2                                  0  \n",
       "3                                  0  \n",
       "4                                  0  \n",
       "5                                  0  \n",
       "6                                  0  \n",
       "7                                  0  \n",
       "8                                  0  \n",
       "9                                  0  "
      ]
     },
     "execution_count": 57,
     "metadata": {},
     "output_type": "execute_result"
    }
   ],
   "source": [
    "for label in top_10:\n",
    "    df[label] = np.where(df[\"Specialization\"]==label, 1, 0)\n",
    "df[[\"Specialization\"]+top_10].head(10)"
   ]
  },
  {
   "cell_type": "code",
   "execution_count": 58,
   "metadata": {},
   "outputs": [
    {
     "data": {
      "text/plain": [
       "(2998, 38)"
      ]
     },
     "execution_count": 58,
     "metadata": {},
     "output_type": "execute_result"
    }
   ],
   "source": [
    "df.shape"
   ]
  },
  {
   "cell_type": "code",
   "execution_count": 59,
   "metadata": {},
   "outputs": [],
   "source": [
    "final_dataset = pd.get_dummies(df, drop_first=True)"
   ]
  },
  {
   "cell_type": "code",
   "execution_count": 60,
   "metadata": {},
   "outputs": [
    {
     "data": {
      "text/plain": [
       "(2998, 104)"
      ]
     },
     "execution_count": 60,
     "metadata": {},
     "output_type": "execute_result"
    }
   ],
   "source": [
    "final_dataset.shape"
   ]
  },
  {
   "cell_type": "code",
   "execution_count": 133,
   "metadata": {
    "scrolled": true
   },
   "outputs": [
    {
     "data": {
      "text/plain": [
       "Salary                                           1.000000\n",
       "Quant                                            0.239345\n",
       "Logical                                          0.193647\n",
       "10percentage                                     0.181414\n",
       "English                                          0.179668\n",
       "                                                   ...   \n",
       "CollegeState_Tamil Nadu                         -0.053205\n",
       "Specialization_computer science & engineering   -0.059655\n",
       "nueroticism                                     -0.069983\n",
       "ComputerScience                                 -0.099373\n",
       "CollegeTier                                     -0.177975\n",
       "Name: Salary, Length: 94, dtype: float64"
      ]
     },
     "execution_count": 133,
     "metadata": {},
     "output_type": "execute_result"
    }
   ],
   "source": [
    "corr_matrix = final_dataset.corr()\n",
    "corr_matrix['Salary'].sort_values(ascending=False)"
   ]
  },
  {
   "cell_type": "code",
   "execution_count": 134,
   "metadata": {},
   "outputs": [],
   "source": [
    "from sklearn.ensemble import ExtraTreesRegressor\n",
    "X = final_dataset.drop(\"Salary\", axis=1)\n",
    "y = final_dataset[[\"Salary\"]]"
   ]
  },
  {
   "cell_type": "code",
   "execution_count": 135,
   "metadata": {},
   "outputs": [
    {
     "name": "stderr",
     "output_type": "stream",
     "text": [
      "c:\\users\\basit\\appdata\\local\\programs\\python\\python37\\lib\\site-packages\\sklearn\\ensemble\\forest.py:245: FutureWarning: The default value of n_estimators will change from 10 in version 0.20 to 100 in 0.22.\n",
      "  \"10 in version 0.20 to 100 in 0.22.\", FutureWarning)\n",
      "c:\\users\\basit\\appdata\\local\\programs\\python\\python37\\lib\\site-packages\\ipykernel_launcher.py:2: DataConversionWarning: A column-vector y was passed when a 1d array was expected. Please change the shape of y to (n_samples,), for example using ravel().\n",
      "  \n"
     ]
    },
    {
     "data": {
      "text/plain": [
       "ExtraTreesRegressor(bootstrap=False, criterion='mse', max_depth=None,\n",
       "                    max_features='auto', max_leaf_nodes=None,\n",
       "                    min_impurity_decrease=0.0, min_impurity_split=None,\n",
       "                    min_samples_leaf=1, min_samples_split=2,\n",
       "                    min_weight_fraction_leaf=0.0, n_estimators=10, n_jobs=None,\n",
       "                    oob_score=False, random_state=None, verbose=0,\n",
       "                    warm_start=False)"
      ]
     },
     "execution_count": 135,
     "metadata": {},
     "output_type": "execute_result"
    }
   ],
   "source": [
    "model = ExtraTreesRegressor()\n",
    "model.fit(X,y)"
   ]
  },
  {
   "cell_type": "code",
   "execution_count": 136,
   "metadata": {},
   "outputs": [
    {
     "data": {
      "text/plain": [
       "<matplotlib.axes._subplots.AxesSubplot at 0x1f083905c48>"
      ]
     },
     "execution_count": 136,
     "metadata": {},
     "output_type": "execute_result"
    },
    {
     "data": {
      "image/png": "[encoded data removed]",
      "text/plain": [
       "<Figure size 432x288 with 1 Axes>"
      ]
     },
     "metadata": {
      "needs_background": "light"
     },
     "output_type": "display_data"
    }
   ],
   "source": [
    "feat_importance = pd.Series(model.feature_importances_, index=X.columns)\n",
    "feat_importance.nlargest(20).plot(kind='bar')"
   ]
  },
  {
   "cell_type": "code",
   "execution_count": 184,
   "metadata": {},
   "outputs": [],
   "source": [
    "from sklearn.ensemble import RandomForestRegressor\n",
    "from sklearn.model_selection import RandomizedSearchCV\n",
    "from sklearn import metrics"
   ]
  },
  {
   "cell_type": "code",
   "execution_count": 185,
   "metadata": {},
   "outputs": [],
   "source": [
    "#Randomized search CV for random forest\n",
    "\n",
    "#Number of treers in random forest\n",
    "n_estimators =[int(x) for x in np.linspace(100,1200,num = 12)]\n",
    "#Number of features to consider at every split\n",
    "max_features =[\"auto\", \"sqrt\"]\n",
    "#Maximum number of levels in the tree \n",
    "max_depth = [int(x) for x in np.linspace(5, 30,6)]\n",
    "#Minimum number of samples required to split a node\n",
    "min_samples_split = [2, 5, 10, 15, 100]\n",
    "#Minimum number of samples required at each leaf node\n",
    "min_samples_leaf = [1, 2, 5, 10]"
   ]
  },
  {
   "cell_type": "code",
   "execution_count": 186,
   "metadata": {},
   "outputs": [
    {
     "name": "stdout",
     "output_type": "stream",
     "text": [
      "{'n_estimators': [100, 200, 300, 400, 500, 600, 700, 800, 900, 1000, 1100, 1200], 'max_features': ['auto', 'sqrt'], 'max_depth': [5, 10, 15, 20, 25, 30], 'min_samples_split': [2, 5, 10, 15, 100], 'min_samples_leaf': [1, 2, 5, 10]}\n"
     ]
    }
   ],
   "source": [
    "#create the random forest grid\n",
    "rf_grid = {'n_estimators' : n_estimators,\n",
    "               'max_features' : max_features,\n",
    "               'max_depth' : max_depth,\n",
    "               'min_samples_split' : min_samples_split,\n",
    "               'min_samples_leaf' : min_samples_leaf}\n",
    "print(rf_grid)"
   ]
  },
  {
   "cell_type": "code",
   "execution_count": 187,
   "metadata": {},
   "outputs": [],
   "source": [
    "#Create the base model to tune\n",
    "rf_model = RandomForestRegressor()"
   ]
  },
  {
   "cell_type": "code",
   "execution_count": 188,
   "metadata": {},
   "outputs": [],
   "source": [
    "final_rf_model = RandomizedSearchCV(estimator = rf_model, \n",
    "                                 param_distributions=rf_grid,\n",
    "                                 scoring='neg_mean_squared_error',\n",
    "                                 n_iter = 5,\n",
    "                                 cv = 2,\n",
    "                                 verbose = 2,\n",
    "                                 random_state = 42,\n",
    "                                 n_jobs =1)"
   ]
  },
  {
   "cell_type": "code",
   "execution_count": 189,
   "metadata": {},
   "outputs": [
    {
     "name": "stdout",
     "output_type": "stream",
     "text": [
      "Fitting 2 folds for each of 5 candidates, totalling 10 fits\n",
      "[CV] n_estimators=900, min_samples_split=5, min_samples_leaf=5, max_features=sqrt, max_depth=10 \n"
     ]
    },
    {
     "name": "stderr",
     "output_type": "stream",
     "text": [
      "[Parallel(n_jobs=1)]: Using backend SequentialBackend with 1 concurrent workers.\n",
      "c:\\users\\basit\\appdata\\local\\programs\\python\\python37\\lib\\site-packages\\sklearn\\model_selection\\_validation.py:516: DataConversionWarning: A column-vector y was passed when a 1d array was expected. Please change the shape of y to (n_samples,), for example using ravel().\n",
      "  estimator.fit(X_train, y_train, **fit_params)\n"
     ]
    },
    {
     "name": "stdout",
     "output_type": "stream",
     "text": [
      "[CV]  n_estimators=900, min_samples_split=5, min_samples_leaf=5, max_features=sqrt, max_depth=10, total=   3.4s\n",
      "[CV] n_estimators=900, min_samples_split=5, min_samples_leaf=5, max_features=sqrt, max_depth=10 \n"
     ]
    },
    {
     "name": "stderr",
     "output_type": "stream",
     "text": [
      "[Parallel(n_jobs=1)]: Done   1 out of   1 | elapsed:    3.3s remaining:    0.0s\n",
      "c:\\users\\basit\\appdata\\local\\programs\\python\\python37\\lib\\site-packages\\sklearn\\model_selection\\_validation.py:516: DataConversionWarning: A column-vector y was passed when a 1d array was expected. Please change the shape of y to (n_samples,), for example using ravel().\n",
      "  estimator.fit(X_train, y_train, **fit_params)\n"
     ]
    },
    {
     "name": "stdout",
     "output_type": "stream",
     "text": [
      "[CV]  n_estimators=900, min_samples_split=5, min_samples_leaf=5, max_features=sqrt, max_depth=10, total=   3.8s\n",
      "[CV] n_estimators=1100, min_samples_split=10, min_samples_leaf=2, max_features=sqrt, max_depth=15 \n"
     ]
    },
    {
     "name": "stderr",
     "output_type": "stream",
     "text": [
      "c:\\users\\basit\\appdata\\local\\programs\\python\\python37\\lib\\site-packages\\sklearn\\model_selection\\_validation.py:516: DataConversionWarning: A column-vector y was passed when a 1d array was expected. Please change the shape of y to (n_samples,), for example using ravel().\n",
      "  estimator.fit(X_train, y_train, **fit_params)\n"
     ]
    },
    {
     "name": "stdout",
     "output_type": "stream",
     "text": [
      "[CV]  n_estimators=1100, min_samples_split=10, min_samples_leaf=2, max_features=sqrt, max_depth=15, total=   4.9s\n",
      "[CV] n_estimators=1100, min_samples_split=10, min_samples_leaf=2, max_features=sqrt, max_depth=15 \n"
     ]
    },
    {
     "name": "stderr",
     "output_type": "stream",
     "text": [
      "c:\\users\\basit\\appdata\\local\\programs\\python\\python37\\lib\\site-packages\\sklearn\\model_selection\\_validation.py:516: DataConversionWarning: A column-vector y was passed when a 1d array was expected. Please change the shape of y to (n_samples,), for example using ravel().\n",
      "  estimator.fit(X_train, y_train, **fit_params)\n"
     ]
    },
    {
     "name": "stdout",
     "output_type": "stream",
     "text": [
      "[CV]  n_estimators=1100, min_samples_split=10, min_samples_leaf=2, max_features=sqrt, max_depth=15, total=   4.9s\n",
      "[CV] n_estimators=300, min_samples_split=100, min_samples_leaf=5, max_features=auto, max_depth=15 \n"
     ]
    },
    {
     "name": "stderr",
     "output_type": "stream",
     "text": [
      "c:\\users\\basit\\appdata\\local\\programs\\python\\python37\\lib\\site-packages\\sklearn\\model_selection\\_validation.py:516: DataConversionWarning: A column-vector y was passed when a 1d array was expected. Please change the shape of y to (n_samples,), for example using ravel().\n",
      "  estimator.fit(X_train, y_train, **fit_params)\n"
     ]
    },
    {
     "name": "stdout",
     "output_type": "stream",
     "text": [
      "[CV]  n_estimators=300, min_samples_split=100, min_samples_leaf=5, max_features=auto, max_depth=15, total=   3.7s\n",
      "[CV] n_estimators=300, min_samples_split=100, min_samples_leaf=5, max_features=auto, max_depth=15 \n"
     ]
    },
    {
     "name": "stderr",
     "output_type": "stream",
     "text": [
      "c:\\users\\basit\\appdata\\local\\programs\\python\\python37\\lib\\site-packages\\sklearn\\model_selection\\_validation.py:516: DataConversionWarning: A column-vector y was passed when a 1d array was expected. Please change the shape of y to (n_samples,), for example using ravel().\n",
      "  estimator.fit(X_train, y_train, **fit_params)\n"
     ]
    },
    {
     "name": "stdout",
     "output_type": "stream",
     "text": [
      "[CV]  n_estimators=300, min_samples_split=100, min_samples_leaf=5, max_features=auto, max_depth=15, total=   3.7s\n",
      "[CV] n_estimators=400, min_samples_split=5, min_samples_leaf=5, max_features=auto, max_depth=15 \n"
     ]
    },
    {
     "name": "stderr",
     "output_type": "stream",
     "text": [
      "c:\\users\\basit\\appdata\\local\\programs\\python\\python37\\lib\\site-packages\\sklearn\\model_selection\\_validation.py:516: DataConversionWarning: A column-vector y was passed when a 1d array was expected. Please change the shape of y to (n_samples,), for example using ravel().\n",
      "  estimator.fit(X_train, y_train, **fit_params)\n"
     ]
    },
    {
     "name": "stdout",
     "output_type": "stream",
     "text": [
      "[CV]  n_estimators=400, min_samples_split=5, min_samples_leaf=5, max_features=auto, max_depth=15, total=   8.0s\n",
      "[CV] n_estimators=400, min_samples_split=5, min_samples_leaf=5, max_features=auto, max_depth=15 \n"
     ]
    },
    {
     "name": "stderr",
     "output_type": "stream",
     "text": [
      "c:\\users\\basit\\appdata\\local\\programs\\python\\python37\\lib\\site-packages\\sklearn\\model_selection\\_validation.py:516: DataConversionWarning: A column-vector y was passed when a 1d array was expected. Please change the shape of y to (n_samples,), for example using ravel().\n",
      "  estimator.fit(X_train, y_train, **fit_params)\n"
     ]
    },
    {
     "name": "stdout",
     "output_type": "stream",
     "text": [
      "[CV]  n_estimators=400, min_samples_split=5, min_samples_leaf=5, max_features=auto, max_depth=15, total=   9.7s\n",
      "[CV] n_estimators=700, min_samples_split=5, min_samples_leaf=10, max_features=auto, max_depth=20 \n"
     ]
    },
    {
     "name": "stderr",
     "output_type": "stream",
     "text": [
      "c:\\users\\basit\\appdata\\local\\programs\\python\\python37\\lib\\site-packages\\sklearn\\model_selection\\_validation.py:516: DataConversionWarning: A column-vector y was passed when a 1d array was expected. Please change the shape of y to (n_samples,), for example using ravel().\n",
      "  estimator.fit(X_train, y_train, **fit_params)\n"
     ]
    },
    {
     "name": "stdout",
     "output_type": "stream",
     "text": [
      "[CV]  n_estimators=700, min_samples_split=5, min_samples_leaf=10, max_features=auto, max_depth=20, total=  11.6s\n",
      "[CV] n_estimators=700, min_samples_split=5, min_samples_leaf=10, max_features=auto, max_depth=20 \n"
     ]
    },
    {
     "name": "stderr",
     "output_type": "stream",
     "text": [
      "c:\\users\\basit\\appdata\\local\\programs\\python\\python37\\lib\\site-packages\\sklearn\\model_selection\\_validation.py:516: DataConversionWarning: A column-vector y was passed when a 1d array was expected. Please change the shape of y to (n_samples,), for example using ravel().\n",
      "  estimator.fit(X_train, y_train, **fit_params)\n"
     ]
    },
    {
     "name": "stdout",
     "output_type": "stream",
     "text": [
      "[CV]  n_estimators=700, min_samples_split=5, min_samples_leaf=10, max_features=auto, max_depth=20, total=  11.5s\n"
     ]
    },
    {
     "name": "stderr",
     "output_type": "stream",
     "text": [
      "[Parallel(n_jobs=1)]: Done  10 out of  10 | elapsed:  1.1min finished\n",
      "c:\\users\\basit\\appdata\\local\\programs\\python\\python37\\lib\\site-packages\\sklearn\\model_selection\\_search.py:715: DataConversionWarning: A column-vector y was passed when a 1d array was expected. Please change the shape of y to (n_samples,), for example using ravel().\n",
      "  self.best_estimator_.fit(X, y, **fit_params)\n"
     ]
    },
    {
     "data": {
      "text/plain": [
       "RandomizedSearchCV(cv=2, error_score='raise-deprecating',\n",
       "                   estimator=RandomForestRegressor(bootstrap=True,\n",
       "                                                   criterion='mse',\n",
       "                                                   max_depth=None,\n",
       "                                                   max_features='auto',\n",
       "                                                   max_leaf_nodes=None,\n",
       "                                                   min_impurity_decrease=0.0,\n",
       "                                                   min_impurity_split=None,\n",
       "                                                   min_samples_leaf=1,\n",
       "                                                   min_samples_split=2,\n",
       "                                                   min_weight_fraction_leaf=0.0,\n",
       "                                                   n_estimators='warn',\n",
       "                                                   n_jobs=None, oob_score=False,\n",
       "                                                   random_sta...\n",
       "                   iid='warn', n_iter=5, n_jobs=1,\n",
       "                   param_distributions={'max_depth': [5, 10, 15, 20, 25, 30],\n",
       "                                        'max_features': ['auto', 'sqrt'],\n",
       "                                        'min_samples_leaf': [1, 2, 5, 10],\n",
       "                                        'min_samples_split': [2, 5, 10, 15,\n",
       "                                                              100],\n",
       "                                        'n_estimators': [100, 200, 300, 400,\n",
       "                                                         500, 600, 700, 800,\n",
       "                                                         900, 1000, 1100,\n",
       "                                                         1200]},\n",
       "                   pre_dispatch='2*n_jobs', random_state=42, refit=True,\n",
       "                   return_train_score=False, scoring='neg_mean_squared_error',\n",
       "                   verbose=2)"
      ]
     },
     "execution_count": 189,
     "metadata": {},
     "output_type": "execute_result"
    }
   ],
   "source": [
    "final_rf_model.fit(train,y)"
   ]
  },
  {
   "cell_type": "code",
   "execution_count": 190,
   "metadata": {},
   "outputs": [
    {
     "data": {
      "text/plain": [
       "{'n_estimators': 1100,\n",
       " 'min_samples_split': 10,\n",
       " 'min_samples_leaf': 2,\n",
       " 'max_features': 'sqrt',\n",
       " 'max_depth': 15}"
      ]
     },
     "execution_count": 190,
     "metadata": {},
     "output_type": "execute_result"
    }
   ],
   "source": [
    "final_rf_model.best_params_"
   ]
  },
  {
   "cell_type": "code",
   "execution_count": 191,
   "metadata": {},
   "outputs": [],
   "source": [
    "y_pred = final_rf_model.predict(train)"
   ]
  },
  {
   "cell_type": "code",
   "execution_count": 192,
   "metadata": {},
   "outputs": [
    {
     "data": {
      "text/plain": [
       "<matplotlib.axes._subplots.AxesSubplot at 0x1f0841d8708>"
      ]
     },
     "execution_count": 192,
     "metadata": {},
     "output_type": "execute_result"
    },
    {
     "data": {
      "image/png": "[encoded data removed]",
      "text/plain": [
       "<Figure size 432x288 with 1 Axes>"
      ]
     },
     "metadata": {
      "needs_background": "light"
     },
     "output_type": "display_data"
    }
   ],
   "source": [
    "sns.distplot(y.T-y_pred)"
   ]
  },
  {
   "cell_type": "code",
   "execution_count": 193,
   "metadata": {},
   "outputs": [
    {
     "name": "stdout",
     "output_type": "stream",
     "text": [
      "MAE: 80505.3419965867\n",
      "MSE: 23808673241.91228\n",
      "RMSE: 154300.59378340797\n"
     ]
    }
   ],
   "source": [
    "print('MAE:', metrics.mean_absolute_error(y, y_pred))\n",
    "print('MSE:', metrics.mean_squared_error(y, y_pred))\n",
    "print('RMSE:', np.sqrt(metrics.mean_squared_error(y, y_pred)))"
   ]
  },
  {
   "cell_type": "code",
   "execution_count": 25,
   "metadata": {},
   "outputs": [],
   "source": [
    "test_df = pd.read_csv(\"test.csv\")"
   ]
  },
  {
   "cell_type": "code",
   "execution_count": 26,
   "metadata": {},
   "outputs": [
    {
     "data": {
      "text/plain": [
       "(1000, 33)"
      ]
     },
     "execution_count": 26,
     "metadata": {},
     "output_type": "execute_result"
    }
   ],
   "source": [
    "test_df.shape"
   ]
  },
  {
   "cell_type": "code",
   "execution_count": 27,
   "metadata": {},
   "outputs": [],
   "source": [
    "test_df['GraduationYear'] = 2020 - test_df['GraduationYear']\n",
    "test_df['12graduation'] = 2020 - test_df['12graduation']"
   ]
  },
  {
   "cell_type": "code",
   "execution_count": 28,
   "metadata": {},
   "outputs": [],
   "source": [
    "test_df = test_df.drop([\"ID\", \"DOB\",\"10board\",\"12board\",\"CollegeID\", \"CollegeCityID\"], axis = 1)"
   ]
  },
  {
   "cell_type": "code",
   "execution_count": 29,
   "metadata": {},
   "outputs": [
    {
     "data": {
      "text/plain": [
       "(1000, 27)"
      ]
     },
     "execution_count": 29,
     "metadata": {},
     "output_type": "execute_result"
    }
   ],
   "source": [
    "test_df.shape"
   ]
  },
  {
   "cell_type": "code",
   "execution_count": 34,
   "metadata": {},
   "outputs": [
    {
     "data": {
      "text/plain": [
       "electronics and communication engineering    210\n",
       "computer science & engineering               187\n",
       "computer engineering                         185\n",
       "information technology                       154\n",
       "electronics and electrical engineering        48\n",
       "mechanical engineering                        46\n",
       "computer application                          43\n",
       "electronics & telecommunications              32\n",
       "electrical engineering                        19\n",
       "civil engineering                             14\n",
       "Name: Specialization, dtype: int64"
      ]
     },
     "execution_count": 34,
     "metadata": {},
     "output_type": "execute_result"
    }
   ],
   "source": [
    "test_df[\"Specialization\"].value_counts().sort_values(ascending=False).head(10)"
   ]
  },
  {
   "cell_type": "code",
   "execution_count": 30,
   "metadata": {
    "scrolled": true
   },
   "outputs": [
    {
     "data": {
      "text/plain": [
       "['electronics and communication engineering',\n",
       " 'computer science & engineering',\n",
       " 'computer engineering',\n",
       " 'information technology',\n",
       " 'electronics and electrical engineering',\n",
       " 'mechanical engineering',\n",
       " 'computer application',\n",
       " 'electronics & telecommunications',\n",
       " 'electrical engineering',\n",
       " 'civil engineering',\n",
       " 'electronics and instrumentation engineering',\n",
       " 'information science engineering',\n",
       " 'electronics & instrumentation eng',\n",
       " 'electronics engineering',\n",
       " 'applied electronics and instrumentation',\n",
       " 'other',\n",
       " 'biotechnology',\n",
       " 'computer science and technology',\n",
       " 'chemical engineering',\n",
       " 'telecommunication engineering']"
      ]
     },
     "execution_count": 30,
     "metadata": {},
     "output_type": "execute_result"
    }
   ],
   "source": [
    "top_20 = [x for x in test_df[\"Specialization\"].value_counts().sort_values(ascending=False).head(20).index]\n",
    "top_20"
   ]
  },
  {
   "cell_type": "code",
   "execution_count": null,
   "metadata": {},
   "outputs": [],
   "source": []
  },
  {
   "cell_type": "code",
   "execution_count": null,
   "metadata": {},
   "outputs": [],
   "source": []
  },
  {
   "cell_type": "code",
   "execution_count": 148,
   "metadata": {},
   "outputs": [],
   "source": [
    "final_test_df = pd.get_dummies(test_df, drop_first=True)"
   ]
  },
  {
   "cell_type": "code",
   "execution_count": 149,
   "metadata": {},
   "outputs": [
    {
     "data": {
      "text/plain": [
       "(1000, 78)"
      ]
     },
     "execution_count": 149,
     "metadata": {},
     "output_type": "execute_result"
    }
   ],
   "source": [
    "final_test_df.shape"
   ]
  },
  {
   "cell_type": "code",
   "execution_count": 159,
   "metadata": {},
   "outputs": [
    {
     "name": "stdout",
     "output_type": "stream",
     "text": [
      "31\n"
     ]
    }
   ],
   "source": [
    "print(len(test_df['Specialization'].unique()))"
   ]
  },
  {
   "cell_type": "code",
   "execution_count": 180,
   "metadata": {},
   "outputs": [
    {
     "name": "stderr",
     "output_type": "stream",
     "text": [
      "c:\\users\\basit\\appdata\\local\\programs\\python\\python37\\lib\\site-packages\\ipykernel_launcher.py:2: FutureWarning: Sorting because non-concatenation axis is not aligned. A future version\n",
      "of pandas will change to not sort by default.\n",
      "\n",
      "To accept the future behavior, pass 'sort=False'.\n",
      "\n",
      "To retain the current behavior and silence the warning, pass 'sort=True'.\n",
      "\n",
      "  \n"
     ]
    }
   ],
   "source": [
    "train_objs_num = len(X)\n",
    "dataset = pd.concat(objs=[X, test_df], axis=0)\n",
    "dataset = pd.get_dummies(dataset)\n",
    "train = (dataset[:train_objs_num])\n",
    "test = (dataset[train_objs_num:])"
   ]
  },
  {
   "cell_type": "code",
   "execution_count": 181,
   "metadata": {},
   "outputs": [
    {
     "data": {
      "text/plain": [
       "(2998, 152)"
      ]
     },
     "execution_count": 181,
     "metadata": {},
     "output_type": "execute_result"
    }
   ],
   "source": [
    "train.shape"
   ]
  },
  {
   "cell_type": "code",
   "execution_count": 182,
   "metadata": {},
   "outputs": [
    {
     "data": {
      "text/plain": [
       "(1000, 152)"
      ]
     },
     "execution_count": 182,
     "metadata": {},
     "output_type": "execute_result"
    }
   ],
   "source": [
    "test.shape"
   ]
  },
  {
   "cell_type": "code",
   "execution_count": 197,
   "metadata": {},
   "outputs": [],
   "source": [
    "test = test.fillna(0)"
   ]
  },
  {
   "cell_type": "code",
   "execution_count": 198,
   "metadata": {},
   "outputs": [
    {
     "data": {
      "text/html": [
       "<div>\n",
       "<style scoped>\n",
       "    .dataframe tbody tr th:only-of-type {\n",
       "        vertical-align: middle;\n",
       "    }\n",
       "\n",
       "    .dataframe tbody tr th {\n",
       "        vertical-align: top;\n",
       "    }\n",
       "\n",
       "    .dataframe thead th {\n",
       "        text-align: right;\n",
       "    }\n",
       "</style>\n",
       "<table border=\"1\" class=\"dataframe\">\n",
       "  <thead>\n",
       "    <tr style=\"text-align: right;\">\n",
       "      <th></th>\n",
       "      <th>10percentage</th>\n",
       "      <th>12graduation</th>\n",
       "      <th>12percentage</th>\n",
       "      <th>CivilEngg</th>\n",
       "      <th>CollegeCityTier</th>\n",
       "      <th>CollegeState_Assam</th>\n",
       "      <th>CollegeState_Bihar</th>\n",
       "      <th>CollegeState_Chhattisgarh</th>\n",
       "      <th>CollegeState_Delhi</th>\n",
       "      <th>CollegeState_Goa</th>\n",
       "      <th>...</th>\n",
       "      <th>Specialization_information technology</th>\n",
       "      <th>Specialization_instrumentation and control engineering</th>\n",
       "      <th>Specialization_instrumentation engineering</th>\n",
       "      <th>Specialization_internal combustion engine</th>\n",
       "      <th>Specialization_mechanical engineering</th>\n",
       "      <th>Specialization_mechatronics</th>\n",
       "      <th>Specialization_other</th>\n",
       "      <th>Specialization_polymer technology</th>\n",
       "      <th>Specialization_power systems and automation</th>\n",
       "      <th>Specialization_telecommunication engineering</th>\n",
       "    </tr>\n",
       "  </thead>\n",
       "  <tbody>\n",
       "    <tr>\n",
       "      <th>0</th>\n",
       "      <td>92.8</td>\n",
       "      <td>13</td>\n",
       "      <td>88.66</td>\n",
       "      <td>-1</td>\n",
       "      <td>1</td>\n",
       "      <td>0.0</td>\n",
       "      <td>0.0</td>\n",
       "      <td>0.0</td>\n",
       "      <td>0.0</td>\n",
       "      <td>0.0</td>\n",
       "      <td>...</td>\n",
       "      <td>0</td>\n",
       "      <td>0</td>\n",
       "      <td>0</td>\n",
       "      <td>0</td>\n",
       "      <td>0</td>\n",
       "      <td>0</td>\n",
       "      <td>0</td>\n",
       "      <td>0</td>\n",
       "      <td>0</td>\n",
       "      <td>0</td>\n",
       "    </tr>\n",
       "    <tr>\n",
       "      <th>1</th>\n",
       "      <td>75.0</td>\n",
       "      <td>10</td>\n",
       "      <td>67.75</td>\n",
       "      <td>-1</td>\n",
       "      <td>0</td>\n",
       "      <td>0.0</td>\n",
       "      <td>0.0</td>\n",
       "      <td>0.0</td>\n",
       "      <td>0.0</td>\n",
       "      <td>0.0</td>\n",
       "      <td>...</td>\n",
       "      <td>0</td>\n",
       "      <td>0</td>\n",
       "      <td>0</td>\n",
       "      <td>0</td>\n",
       "      <td>0</td>\n",
       "      <td>0</td>\n",
       "      <td>0</td>\n",
       "      <td>0</td>\n",
       "      <td>0</td>\n",
       "      <td>0</td>\n",
       "    </tr>\n",
       "    <tr>\n",
       "      <th>2</th>\n",
       "      <td>79.2</td>\n",
       "      <td>12</td>\n",
       "      <td>59.00</td>\n",
       "      <td>-1</td>\n",
       "      <td>1</td>\n",
       "      <td>0.0</td>\n",
       "      <td>0.0</td>\n",
       "      <td>0.0</td>\n",
       "      <td>0.0</td>\n",
       "      <td>0.0</td>\n",
       "      <td>...</td>\n",
       "      <td>0</td>\n",
       "      <td>0</td>\n",
       "      <td>0</td>\n",
       "      <td>0</td>\n",
       "      <td>0</td>\n",
       "      <td>0</td>\n",
       "      <td>0</td>\n",
       "      <td>0</td>\n",
       "      <td>0</td>\n",
       "      <td>0</td>\n",
       "    </tr>\n",
       "    <tr>\n",
       "      <th>3</th>\n",
       "      <td>83.2</td>\n",
       "      <td>11</td>\n",
       "      <td>80.40</td>\n",
       "      <td>-1</td>\n",
       "      <td>1</td>\n",
       "      <td>0.0</td>\n",
       "      <td>0.0</td>\n",
       "      <td>0.0</td>\n",
       "      <td>0.0</td>\n",
       "      <td>0.0</td>\n",
       "      <td>...</td>\n",
       "      <td>0</td>\n",
       "      <td>0</td>\n",
       "      <td>0</td>\n",
       "      <td>0</td>\n",
       "      <td>0</td>\n",
       "      <td>0</td>\n",
       "      <td>0</td>\n",
       "      <td>0</td>\n",
       "      <td>0</td>\n",
       "      <td>0</td>\n",
       "    </tr>\n",
       "    <tr>\n",
       "      <th>4</th>\n",
       "      <td>85.4</td>\n",
       "      <td>12</td>\n",
       "      <td>88.70</td>\n",
       "      <td>-1</td>\n",
       "      <td>0</td>\n",
       "      <td>0.0</td>\n",
       "      <td>0.0</td>\n",
       "      <td>0.0</td>\n",
       "      <td>0.0</td>\n",
       "      <td>0.0</td>\n",
       "      <td>...</td>\n",
       "      <td>0</td>\n",
       "      <td>0</td>\n",
       "      <td>0</td>\n",
       "      <td>0</td>\n",
       "      <td>0</td>\n",
       "      <td>0</td>\n",
       "      <td>0</td>\n",
       "      <td>0</td>\n",
       "      <td>0</td>\n",
       "      <td>0</td>\n",
       "    </tr>\n",
       "  </tbody>\n",
       "</table>\n",
       "<p>5 rows × 152 columns</p>\n",
       "</div>"
      ],
      "text/plain": [
       "   10percentage  12graduation  12percentage  CivilEngg  CollegeCityTier  \\\n",
       "0          92.8            13         88.66         -1                1   \n",
       "1          75.0            10         67.75         -1                0   \n",
       "2          79.2            12         59.00         -1                1   \n",
       "3          83.2            11         80.40         -1                1   \n",
       "4          85.4            12         88.70         -1                0   \n",
       "\n",
       "   CollegeState_Assam  CollegeState_Bihar  CollegeState_Chhattisgarh  \\\n",
       "0                 0.0                 0.0                        0.0   \n",
       "1                 0.0                 0.0                        0.0   \n",
       "2                 0.0                 0.0                        0.0   \n",
       "3                 0.0                 0.0                        0.0   \n",
       "4                 0.0                 0.0                        0.0   \n",
       "\n",
       "   CollegeState_Delhi  CollegeState_Goa  ...  \\\n",
       "0                 0.0               0.0  ...   \n",
       "1                 0.0               0.0  ...   \n",
       "2                 0.0               0.0  ...   \n",
       "3                 0.0               0.0  ...   \n",
       "4                 0.0               0.0  ...   \n",
       "\n",
       "   Specialization_information technology  \\\n",
       "0                                      0   \n",
       "1                                      0   \n",
       "2                                      0   \n",
       "3                                      0   \n",
       "4                                      0   \n",
       "\n",
       "   Specialization_instrumentation and control engineering  \\\n",
       "0                                                  0        \n",
       "1                                                  0        \n",
       "2                                                  0        \n",
       "3                                                  0        \n",
       "4                                                  0        \n",
       "\n",
       "   Specialization_instrumentation engineering  \\\n",
       "0                                           0   \n",
       "1                                           0   \n",
       "2                                           0   \n",
       "3                                           0   \n",
       "4                                           0   \n",
       "\n",
       "   Specialization_internal combustion engine  \\\n",
       "0                                          0   \n",
       "1                                          0   \n",
       "2                                          0   \n",
       "3                                          0   \n",
       "4                                          0   \n",
       "\n",
       "   Specialization_mechanical engineering  Specialization_mechatronics  \\\n",
       "0                                      0                            0   \n",
       "1                                      0                            0   \n",
       "2                                      0                            0   \n",
       "3                                      0                            0   \n",
       "4                                      0                            0   \n",
       "\n",
       "   Specialization_other  Specialization_polymer technology  \\\n",
       "0                     0                                  0   \n",
       "1                     0                                  0   \n",
       "2                     0                                  0   \n",
       "3                     0                                  0   \n",
       "4                     0                                  0   \n",
       "\n",
       "   Specialization_power systems and automation  \\\n",
       "0                                            0   \n",
       "1                                            0   \n",
       "2                                            0   \n",
       "3                                            0   \n",
       "4                                            0   \n",
       "\n",
       "   Specialization_telecommunication engineering  \n",
       "0                                             0  \n",
       "1                                             0  \n",
       "2                                             0  \n",
       "3                                             0  \n",
       "4                                             0  \n",
       "\n",
       "[5 rows x 152 columns]"
      ]
     },
     "execution_count": 198,
     "metadata": {},
     "output_type": "execute_result"
    }
   ],
   "source": [
    "test.head()"
   ]
  },
  {
   "cell_type": "code",
   "execution_count": 201,
   "metadata": {},
   "outputs": [],
   "source": [
    "target = final_rf_model.predict(test)"
   ]
  },
  {
   "cell_type": "code",
   "execution_count": 202,
   "metadata": {},
   "outputs": [
    {
     "data": {
      "text/plain": [
       "array([368552.14934038, 219544.14077642, 223327.34381419, 379632.38831861,\n",
       "       319712.73099167, 327550.05949405, 280957.40202559, 289847.9467576 ,\n",
       "       477384.65727293, 241497.61520196, 294519.99047372, 670271.49585716,\n",
       "       342721.74372853, 337215.50067509, 248523.93017564, 274446.07286447,\n",
       "       288555.26060155, 294399.34319199, 290190.93813612, 265189.12191982,\n",
       "       227482.19225538, 194415.12888736, 340369.86941046, 341652.08542366,\n",
       "       260669.52026566, 376371.3646809 , 269919.32854466, 356858.90706441,\n",
       "       316750.27742733, 227442.68547063, 278315.89068289, 277391.17193159,\n",
       "       330562.35068145, 412952.07821515, 281180.38212196, 278530.53122655,\n",
       "       265458.94967106, 288799.55935345, 308290.03947614, 279562.93374209,\n",
       "       402146.96059776, 331496.90371988, 321737.7323283 , 340321.72070884,\n",
       "       247610.61862899, 326514.91375203, 203013.84157898, 217509.52750615,\n",
       "       335044.16707422, 338437.88151015, 264935.88162448, 300507.27367845,\n",
       "       236837.19395536, 329638.95069582, 218655.68589377, 286039.11166033,\n",
       "       333882.55346115, 260718.27506638, 373274.28650041, 300008.94045249,\n",
       "       351441.04293193, 225384.03952494, 426760.46640086, 272195.81869918,\n",
       "       411524.13012305, 244490.42890905, 313236.89983042, 237043.0579597 ,\n",
       "       274092.30197323, 282008.82469987, 245064.46111573, 249203.10038192,\n",
       "       404820.42568436, 312996.38287378, 219054.04748354, 343256.80141708,\n",
       "       271093.73590275, 281350.61990583, 239009.6484551 , 359901.30698032,\n",
       "       318178.85052285, 227909.78856567, 272961.23787412, 252593.5650104 ,\n",
       "       208797.69421965, 186498.88563217, 232570.86282211, 290325.75704729,\n",
       "       299900.702403  , 208492.46884285, 487792.79716271, 256412.85809896,\n",
       "       440669.65785735, 233606.76477108, 348121.28935221, 437395.19960853,\n",
       "       254223.85737394, 251736.83069104, 338003.43403333, 283385.38435626,\n",
       "       220940.89737322, 311956.90984347, 300097.89595683, 253278.62879483,\n",
       "       375092.89846262, 442277.36654558, 275903.17856619, 301824.73557124,\n",
       "       340944.92823639, 328268.01890437, 233773.48529111, 499020.74358403,\n",
       "       335239.90360048, 296063.80042957, 236735.35689336, 268130.54064299,\n",
       "       274589.89460416, 346531.26482322, 367024.32593865, 292528.60468694,\n",
       "       287355.46459638, 222795.87834506, 232796.84241884, 334284.12569624,\n",
       "       288097.52291577, 298525.21611596, 223566.01873378, 313643.39254491,\n",
       "       280514.93367968, 229138.33218854, 432570.73128164, 272567.52152368,\n",
       "       240922.04309549, 302817.20001495, 247063.02894856, 381711.38897245,\n",
       "       309974.72494012, 223111.77657857, 264671.1997705 , 376791.39452531,\n",
       "       217691.12641096, 300973.78337594, 381363.49841421, 291997.53360715,\n",
       "       296545.95551898, 354987.19537993, 368482.90326874, 291341.56247345,\n",
       "       289282.99644998, 229503.30320154, 340404.17870932, 305889.7246831 ,\n",
       "       313360.50749485, 332871.34072046, 247545.53844479, 217988.11266479,\n",
       "       249691.94928357, 355942.4271855 , 315663.90685976, 208497.64114749,\n",
       "       301552.46505642, 222970.7987091 , 253508.83457303, 361991.31139324,\n",
       "       277303.01172546, 272860.33630496, 262674.42021657, 234840.01680998,\n",
       "       298231.36549914, 259166.80022235, 276922.06648684, 216830.00366131,\n",
       "       271062.47078663, 359901.65661064, 376035.50248793, 370233.34167829,\n",
       "       215024.76295667, 317816.37975467, 248964.61375503, 306586.24711888,\n",
       "       374560.56046904, 431177.68816844, 232825.58078684, 274918.91633785,\n",
       "       329702.37040526, 356309.43271807, 271573.6256299 , 306503.58626962,\n",
       "       388137.79490343, 345062.99945082, 254939.78877107, 359553.46671498,\n",
       "       333960.89170003, 228552.5087244 , 331156.8151569 , 260620.72764422,\n",
       "       327461.96000969, 321930.00652212, 300562.58534632, 227903.18954077,\n",
       "       255034.99210561, 316888.55102927, 275836.22150407, 302789.68805333,\n",
       "       282900.94373925, 280454.89539626, 263809.38204655, 249906.09230133,\n",
       "       370211.16317816, 275824.79135575, 315742.32658666, 294936.42185388,\n",
       "       246004.00098427, 403215.0093866 , 359215.75289782, 265733.36014299,\n",
       "       226117.64435686, 259520.3446959 , 325261.43333174, 239333.38544344,\n",
       "       292375.98303103, 286308.0317574 , 345771.28773354, 338157.69295445,\n",
       "       320407.44401487, 369259.30837627, 237157.60844125, 227041.4273729 ,\n",
       "       400936.76328489, 298454.48056184, 363205.13045085, 422935.44498264,\n",
       "       299316.44024542, 234608.60612082, 391825.4618253 , 294889.60273269,\n",
       "       361217.79540393, 328579.44210459, 225712.4379695 , 263968.6038524 ,\n",
       "       292481.72162145, 521285.12087879, 312779.58240353, 342165.53590467,\n",
       "       246174.26743384, 312306.11627238, 348709.26974436, 497866.57952832,\n",
       "       292172.39155414, 249213.16218655, 313014.8820842 , 334106.35178675,\n",
       "       221105.28778346, 363928.24791377, 277664.42272219, 327713.57647131,\n",
       "       322347.09085175, 369160.02826961, 193790.92855892, 375069.75323077,\n",
       "       415296.09231669, 254522.77468132, 236865.32684978, 270179.20820316,\n",
       "       414292.36776474, 252331.81414662, 241462.47053951, 321563.59987167,\n",
       "       287442.25931538, 248470.87929514, 272152.19963524, 287589.7437962 ,\n",
       "       259928.47760847, 199324.91993931, 284862.22162489, 254417.97494084,\n",
       "       270631.78834016, 235692.68609731, 321832.60111497, 294890.34891127,\n",
       "       320232.1406213 , 310493.75613378, 254907.45663712, 244353.93490382,\n",
       "       344729.70808919, 387798.41704154, 248787.29994244, 464268.38073179,\n",
       "       414199.09618428, 315072.05622276, 333703.21385095, 252297.59823806,\n",
       "       335920.93848847, 316785.71303138, 294753.88548029, 338902.69961644,\n",
       "       330785.37233594, 361713.57033307, 381673.60786094, 419183.64935874,\n",
       "       237988.76520524, 266936.20848596, 287480.61281378, 242674.67384482,\n",
       "       290833.02818861, 509509.7235144 , 324615.70765189, 301310.98668372,\n",
       "       380215.01142414, 472495.18598475, 352463.45161602, 339910.20686798,\n",
       "       293034.41172688, 298584.36442687, 222882.86468507, 241098.32974389,\n",
       "       351057.04583387, 261587.20530638, 309028.09051539, 313180.84519541,\n",
       "       396689.58919996, 215073.72587394, 372840.49291345, 411448.02546329,\n",
       "       285994.60315169, 257463.44285735, 290230.0404816 , 382676.49920535,\n",
       "       280250.21755414, 355430.37590187, 302765.6677558 , 305624.80907255,\n",
       "       234542.536886  , 325936.35917343, 406799.44790231, 435091.56938034,\n",
       "       314683.24313342, 292272.79847911, 381020.13955823, 248241.79978665,\n",
       "       297220.14163158, 276521.87408838, 223442.78298922, 358808.94362063,\n",
       "       384708.15984956, 380618.10846251, 303297.76655891, 420023.1556001 ,\n",
       "       304380.02259284, 342891.49456778, 326691.31848077, 314153.89699016,\n",
       "       275211.19212179, 271076.7084749 , 295094.52561159, 274242.36436994,\n",
       "       292459.69825869, 294629.30778032, 233893.93757017, 287538.85558618,\n",
       "       330067.0450976 , 212309.00568194, 272894.84567112, 411569.43403849,\n",
       "       348423.35615275, 393753.60102314, 270284.34951009, 238556.84035383,\n",
       "       191437.89626939, 290460.9806889 , 335832.38890703, 283702.23805243,\n",
       "       384156.95206397, 253921.37834132, 285424.89281878, 278095.56947016,\n",
       "       323998.38191476, 250625.24228504, 449306.78133482, 354710.02723965,\n",
       "       351125.39228381, 415166.50555158, 331588.64891785, 277404.75346951,\n",
       "       286446.52436444, 328669.35984334, 235972.74272497, 372672.68378821,\n",
       "       384141.6571519 , 296222.61479126, 202301.27156269, 280508.8729797 ,\n",
       "       293333.41553574, 304638.43535811, 368388.69929383, 381852.77754318,\n",
       "       225302.21873312, 261718.61419422, 266214.39774645, 261650.83975291,\n",
       "       402808.30722662, 398154.7241337 , 278325.41687644, 351579.19108276,\n",
       "       393231.15073303, 227552.00794716, 407288.2694909 , 303948.77101984,\n",
       "       246430.93165499, 319091.7129723 , 219305.14229421, 236204.65910093,\n",
       "       192584.75991688, 265448.18718867, 309380.13392897, 361434.29081004,\n",
       "       368615.83624886, 279177.85130785, 372360.28293504, 354061.89685836,\n",
       "       376613.17649848, 346913.98444857, 312399.36178363, 244201.89519858,\n",
       "       269077.43989395, 216567.11573491, 429979.75704328, 264809.88761547,\n",
       "       235051.88641966, 296771.4573036 , 292221.83978562, 290186.11368436,\n",
       "       246605.62895621, 366932.78977148, 392711.8597287 , 390277.8301038 ,\n",
       "       332884.50207293, 332376.53326205, 377805.89511312, 303986.1773646 ,\n",
       "       358857.2357194 , 233417.33862435, 236353.76356763, 197064.99119196,\n",
       "       275625.09660953, 351997.23112643, 330558.88444392, 283687.79320677,\n",
       "       365670.09025233, 418716.52750215, 420218.38783836, 216020.34230322,\n",
       "       375096.4935817 , 292481.18134425, 335961.47984235, 377626.12909907,\n",
       "       279092.37263035, 431861.98765392, 235458.92187947, 227646.41595907,\n",
       "       248715.7113504 , 437758.45988842, 348926.05474308, 315059.16803248,\n",
       "       374218.30669869, 411630.8077349 , 241338.14219757, 286023.58791033,\n",
       "       339333.63541593, 352064.3536618 , 277077.84004386, 302340.78048022,\n",
       "       297132.32047313, 363683.91080017, 484680.59979526, 208987.60839754,\n",
       "       298385.18874883, 314142.75471907, 346680.00976205, 256222.8032699 ,\n",
       "       223858.31516019, 363470.08774012, 267316.35160688, 287999.71659512,\n",
       "       302977.15405842, 298919.08080228, 333297.40100554, 240357.99237102,\n",
       "       223544.07466161, 442231.95847016, 300193.43633282, 265307.09836218,\n",
       "       399681.09481453, 313413.63174222, 261086.88665035, 252071.13627376,\n",
       "       251254.20157654, 282203.71813267, 376990.26311792, 295482.3663745 ,\n",
       "       288565.45168259, 345442.45182898, 278234.23785002, 315281.40217187,\n",
       "       376450.48161488, 316469.92885402, 378564.02126311, 411800.26312754,\n",
       "       213088.84822212, 478158.7977686 , 358108.22444983, 300709.59973536,\n",
       "       241559.99014776, 338963.54067123, 308876.85169255, 306773.63338817,\n",
       "       277689.29085192, 379635.77708464, 332721.98958607, 416635.61449552,\n",
       "       255141.24559515, 275566.32627728, 320343.6141373 , 317834.9954373 ,\n",
       "       241327.5976125 , 343608.61400836, 301985.79868809, 246225.14056099,\n",
       "       372609.52815095, 300219.75164279, 235403.81071618, 322259.61234303,\n",
       "       261938.75239484, 237338.60692999, 314979.85542309, 283732.23301773,\n",
       "       220594.86791321, 347752.23559214, 257639.50162405, 301245.10971258,\n",
       "       227429.97443624, 323041.35177312, 221296.04262122, 295891.11171764,\n",
       "       339504.83942187, 460841.07602714, 236493.57567782, 429435.03154863,\n",
       "       247012.6428493 , 253753.73858859, 373408.89013498, 302134.91537789,\n",
       "       244558.32702192, 269886.49049131, 340062.72286381, 237962.80258522,\n",
       "       296160.26164907, 251069.70784235, 252931.80988691, 269500.58976172,\n",
       "       263507.24600214, 360420.44717513, 331714.22173478, 234561.34983107,\n",
       "       227642.4780725 , 448975.53859939, 252516.26292634, 343605.52544734,\n",
       "       321186.73622837, 242719.75753261, 237980.39948413, 386339.7101451 ,\n",
       "       246563.70477733, 206625.0283927 , 236358.95566119, 349499.28128742,\n",
       "       364974.29459945, 292296.65565046, 293773.67970225, 248338.39877753,\n",
       "       241293.10387188, 236480.42183551, 345663.90689206, 291743.17942075,\n",
       "       340065.51257024, 288382.13478971, 342737.12496091, 218785.03773977,\n",
       "       256693.77879528, 250995.37279598, 269770.91848045, 289932.44387391,\n",
       "       306286.8305638 , 378552.40777813, 312178.36907634, 266979.37900319,\n",
       "       339278.5069375 , 205784.62108082, 390793.03453312, 334551.40401172,\n",
       "       224595.65053799, 301234.37587952, 287620.34544031, 459556.29718532,\n",
       "       214961.49712467, 501051.83892835, 362268.15772519, 280933.63332773,\n",
       "       232495.73233679, 272234.22588056, 251836.96216938, 367495.03584673,\n",
       "       285206.37460711, 429657.34503943, 316962.35630719, 244031.86080746,\n",
       "       264250.63640648, 281762.94729278, 258304.88448598, 348472.79701765,\n",
       "       342985.94423389, 251756.54257383, 329182.91973994, 253622.03189527,\n",
       "       323171.75003097, 294562.09260594, 392549.6114888 , 309805.86528304,\n",
       "       278654.67310328, 265680.73817574, 228140.3619627 , 229227.49346388,\n",
       "       284904.84389617, 270672.61154467, 270571.81072679, 268396.97481137,\n",
       "       350253.77800216, 307820.03650387, 249959.08336631, 224120.72535473,\n",
       "       301250.32669718, 231069.49997498, 335304.87197197, 313377.00312913,\n",
       "       306975.91341288, 294978.4722648 , 346699.49744657, 299996.52126262,\n",
       "       337178.74264041, 191428.39860911, 225095.78529144, 327546.64598031,\n",
       "       245375.42513194, 262465.93911424, 296813.73603799, 311554.88171836,\n",
       "       303845.24888965, 234823.04523023, 265113.85927635, 284341.69192921,\n",
       "       361716.21332087, 214915.30737611, 231938.09328637, 288141.38413408,\n",
       "       434744.19783745, 370735.78985764, 295336.87672691, 396018.97234901,\n",
       "       276989.88402893, 448040.17644361, 267596.37704651, 248943.86363431,\n",
       "       372459.9490923 , 290830.6522653 , 433486.17328936, 540581.83384453,\n",
       "       246679.40207062, 293707.11832819, 309399.34969571, 333154.47350819,\n",
       "       241255.00100751, 263286.32173862, 446435.97792909, 389169.02831456,\n",
       "       218029.37811726, 195924.86083965, 294099.26429462, 334188.95124885,\n",
       "       267325.25076346, 294816.75420824, 213329.68818468, 262050.79186623,\n",
       "       227568.97603857, 268141.5409797 , 355130.60078735, 221420.76391677,\n",
       "       330606.45804967, 376867.15001929, 375454.39840211, 412347.18606178,\n",
       "       331617.58654898, 224678.18170066, 334492.04332481, 268640.59828697,\n",
       "       337939.68057332, 267005.38756486, 231817.98664886, 261647.36467701,\n",
       "       324216.46954697, 317825.65794424, 302143.45679368, 236542.33486589,\n",
       "       319656.14875313, 424312.2700534 , 248742.87564494, 271327.81677716,\n",
       "       239204.84396462, 251032.85519955, 286375.68130139, 289050.52120166,\n",
       "       231776.93277164, 319684.00203963, 346577.29716862, 307955.35530159,\n",
       "       296418.16379047, 253023.8281617 , 307593.74102788, 317863.4278127 ,\n",
       "       348323.19517178, 261848.44126431, 393848.01745453, 187801.54241687,\n",
       "       302368.08315545, 302580.44251063, 259540.29886032, 269177.32071764,\n",
       "       281744.8957794 , 252981.58460161, 599397.09791332, 268025.05712014,\n",
       "       325193.38302213, 257454.97281844, 329548.96091844, 240316.54287659,\n",
       "       315144.38997692, 201334.54462848, 263720.60688226, 290526.42773387,\n",
       "       285784.58119375, 277788.18254906, 389604.73521433, 337297.0421358 ,\n",
       "       380053.02683307, 256146.09160496, 238093.81073881, 285051.72874758,\n",
       "       201545.79022021, 259611.2223646 , 354353.7787173 , 297375.92054699,\n",
       "       267193.71136563, 284001.92907916, 267091.22505495, 319985.13718514,\n",
       "       318296.48689729, 268873.34282847, 367422.25637297, 408764.48981003,\n",
       "       455987.4463438 , 215774.90283875, 205788.08645706, 378476.72212061,\n",
       "       336986.39542189, 240244.00980847, 431084.69235083, 259207.13800579,\n",
       "       317588.65565274, 329740.713125  , 251839.73116156, 237110.53279208,\n",
       "       228123.13728316, 203188.26297296, 436926.11271664, 295504.31227455,\n",
       "       258995.65486447, 276311.7525711 , 300176.72507837, 288656.42639802,\n",
       "       259534.44054135, 402735.81525124, 253232.12154407, 355822.14373248,\n",
       "       294109.4538456 , 340787.69267438, 294852.27835572, 273423.71556845,\n",
       "       199787.75734486, 329481.8088229 , 238664.6186079 , 276027.11390903,\n",
       "       277616.33561728, 355134.70578249, 267376.52068413, 282452.09156233,\n",
       "       245275.19028421, 270236.38368305, 381993.14238101, 302771.18919503,\n",
       "       263428.03261886, 223685.09129247, 244738.44679165, 263411.48930498,\n",
       "       310370.96918655, 311523.59678519, 211386.92218341, 230466.18599665,\n",
       "       301178.97101067, 234543.82391302, 271997.5455588 , 423747.28283173,\n",
       "       357458.44522754, 388055.9795017 , 241311.61898403, 378167.90902762,\n",
       "       346685.27297677, 328973.21354135, 334341.91961956, 305475.02328855,\n",
       "       282800.4467558 , 367054.32883765, 292847.62548906, 404554.37169788,\n",
       "       390495.86987012, 314380.96158374, 350050.8784341 , 391308.31101542,\n",
       "       325300.77698034, 181673.95249381, 265680.11106042, 215303.53697796,\n",
       "       275425.71453992, 256547.62439047, 260700.72944158, 260351.2483627 ,\n",
       "       288101.68141571, 364958.50393677, 216439.51414216, 337386.27041195,\n",
       "       296653.5951042 , 278234.07609637, 268345.05339982, 265793.94164714,\n",
       "       366327.62574711, 338382.80066593, 244685.08958676, 269108.30380249,\n",
       "       283224.50926786, 217062.22611842, 291814.32577339, 197996.70841158,\n",
       "       341157.58375292, 279394.05965763, 351844.55650751, 297901.73699094,\n",
       "       254515.03333081, 350571.86099281, 328030.91683936, 320534.89150505,\n",
       "       318462.04819994, 317034.88989801, 299478.94257486, 336412.62157749,\n",
       "       424351.60035325, 293101.81350933, 375899.0262271 , 398009.67561893,\n",
       "       305804.19046355, 254480.83960107, 253787.73283791, 338176.26357524,\n",
       "       293767.67570041, 228127.6910999 , 254513.25792409, 288923.27406952,\n",
       "       271152.53646026, 231232.0309042 , 298024.14390894, 227128.05346048,\n",
       "       293425.42603914, 341052.55556516, 298488.2407004 , 290933.88389134,\n",
       "       277874.68611448, 260401.89328474, 410112.13082057, 424638.95053736,\n",
       "       260502.24233548, 230428.02420912, 325335.04925766, 209916.06975204,\n",
       "       229711.00031351, 350824.52252218, 319131.45725774, 344027.66805508,\n",
       "       258359.2247143 , 243708.01347019, 363642.74837728, 263395.74179765,\n",
       "       471675.44567661, 274071.22679449, 329654.16908025, 315279.39853401,\n",
       "       272354.04893447, 260104.8563453 , 346030.8837261 , 382098.69102615,\n",
       "       214141.05427901, 193517.17785546, 266145.90822694, 282698.5423632 ,\n",
       "       332779.51227593, 272187.30888632, 322061.5338754 , 248957.70088674,\n",
       "       366710.98340072, 235881.75300477, 330065.75743833, 417528.23986379,\n",
       "       212467.47673749, 285160.48167265, 443114.5617816 , 215711.2586794 ,\n",
       "       300140.60689164, 366051.94521224, 247890.01525257, 297617.07359906,\n",
       "       237993.16584213, 411321.6112071 , 410362.50437466, 281786.19717494,\n",
       "       342500.72304591, 217765.28301354, 387538.74943554, 253295.4533371 ,\n",
       "       300857.43107887, 289223.28570985, 229947.41604275, 298571.87632832,\n",
       "       455491.90736955, 314826.36752092, 285736.46301543, 371095.50977467,\n",
       "       301161.38681009, 330165.02360813, 230423.22024009, 279592.96000874,\n",
       "       302076.85891219, 416648.4174495 , 242426.6571777 , 312884.15993321,\n",
       "       203572.66467017, 449447.84118802, 286504.16655655, 243728.08019768,\n",
       "       308867.36984829, 313623.97882194, 311426.67838435, 289817.71522484,\n",
       "       253475.74301832, 260584.03344817, 284067.20775851, 359627.1565174 ,\n",
       "       269458.53929032, 286676.87571231, 247655.90335517, 474357.71288265,\n",
       "       276127.87228109, 398960.90833038, 304653.77082478, 308820.35548286,\n",
       "       365205.14847536, 291564.46004411, 304747.57287838, 262802.13552379,\n",
       "       259427.09043243, 346675.24274076, 339754.73772719, 380417.8960923 ,\n",
       "       320882.08021775, 244101.66840742, 307710.63628554, 260165.64629307,\n",
       "       287285.53755366, 350372.02713316, 238337.55037999, 226555.23652401,\n",
       "       248456.45499582, 298231.8005338 , 252484.01653074, 284713.26983152])"
      ]
     },
     "execution_count": 202,
     "metadata": {},
     "output_type": "execute_result"
    }
   ],
   "source": [
    "target"
   ]
  },
  {
   "cell_type": "code",
   "execution_count": null,
   "metadata": {},
   "outputs": [],
   "source": []
  }
 ],
 "metadata": {
  "kernelspec": {
   "display_name": "Python 3",
   "language": "python",
   "name": "python3"
  },
  "language_info": {
   "codemirror_mode": {
    "name": "ipython",
    "version": 3
   },
   "file_extension": ".py",
   "mimetype": "text/x-python",
   "name": "python",
   "nbconvert_exporter": "python",
   "pygments_lexer": "ipython3",
   "version": "3.7.5"
  }
 },
 "nbformat": 4,
 "nbformat_minor": 2
}
