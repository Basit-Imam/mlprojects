{
 "cells": [
  {
   "cell_type": "code",
   "execution_count": 1,
   "metadata": {},
   "outputs": [],
   "source": [
    "import numpy as np\n",
    "import pandas as pd"
   ]
  },
  {
   "cell_type": "code",
   "execution_count": 2,
   "metadata": {},
   "outputs": [],
   "source": [
    "df = pd.read_csv(\"train.csv\")"
   ]
  },
  {
   "cell_type": "code",
   "execution_count": 4,
   "metadata": {},
   "outputs": [
    {
     "data": {
      "text/plain": [
       "(18834, 11)"
      ]
     },
     "execution_count": 4,
     "metadata": {},
     "output_type": "execute_result"
    }
   ],
   "source": [
    "df.shape"
   ]
  },
  {
   "cell_type": "code",
   "execution_count": 5,
   "metadata": {},
   "outputs": [
    {
     "data": {
      "text/html": [
       "<div>\n",
       "<style scoped>\n",
       "    .dataframe tbody tr th:only-of-type {\n",
       "        vertical-align: middle;\n",
       "    }\n",
       "\n",
       "    .dataframe tbody tr th {\n",
       "        vertical-align: top;\n",
       "    }\n",
       "\n",
       "    .dataframe thead th {\n",
       "        text-align: right;\n",
       "    }\n",
       "</style>\n",
       "<table border=\"1\" class=\"dataframe\">\n",
       "  <thead>\n",
       "    <tr style=\"text-align: right;\">\n",
       "      <th></th>\n",
       "      <th>pet_id</th>\n",
       "      <th>issue_date</th>\n",
       "      <th>listing_date</th>\n",
       "      <th>condition</th>\n",
       "      <th>color_type</th>\n",
       "      <th>length(m)</th>\n",
       "      <th>height(cm)</th>\n",
       "      <th>X1</th>\n",
       "      <th>X2</th>\n",
       "      <th>breed_category</th>\n",
       "      <th>pet_category</th>\n",
       "    </tr>\n",
       "  </thead>\n",
       "  <tbody>\n",
       "    <tr>\n",
       "      <th>0</th>\n",
       "      <td>ANSL_69903</td>\n",
       "      <td>2016-07-10 00:00:00</td>\n",
       "      <td>2016-09-21 16:25:00</td>\n",
       "      <td>2.0</td>\n",
       "      <td>Brown Tabby</td>\n",
       "      <td>0.80</td>\n",
       "      <td>7.78</td>\n",
       "      <td>13</td>\n",
       "      <td>9</td>\n",
       "      <td>0.0</td>\n",
       "      <td>1</td>\n",
       "    </tr>\n",
       "    <tr>\n",
       "      <th>1</th>\n",
       "      <td>ANSL_66892</td>\n",
       "      <td>2013-11-21 00:00:00</td>\n",
       "      <td>2018-12-27 17:47:00</td>\n",
       "      <td>1.0</td>\n",
       "      <td>White</td>\n",
       "      <td>0.72</td>\n",
       "      <td>14.19</td>\n",
       "      <td>13</td>\n",
       "      <td>9</td>\n",
       "      <td>0.0</td>\n",
       "      <td>2</td>\n",
       "    </tr>\n",
       "    <tr>\n",
       "      <th>2</th>\n",
       "      <td>ANSL_69750</td>\n",
       "      <td>2014-09-28 00:00:00</td>\n",
       "      <td>2016-10-19 08:24:00</td>\n",
       "      <td>NaN</td>\n",
       "      <td>Brown</td>\n",
       "      <td>0.15</td>\n",
       "      <td>40.90</td>\n",
       "      <td>15</td>\n",
       "      <td>4</td>\n",
       "      <td>2.0</td>\n",
       "      <td>4</td>\n",
       "    </tr>\n",
       "    <tr>\n",
       "      <th>3</th>\n",
       "      <td>ANSL_71623</td>\n",
       "      <td>2016-12-31 00:00:00</td>\n",
       "      <td>2019-01-25 18:30:00</td>\n",
       "      <td>1.0</td>\n",
       "      <td>White</td>\n",
       "      <td>0.62</td>\n",
       "      <td>17.82</td>\n",
       "      <td>0</td>\n",
       "      <td>1</td>\n",
       "      <td>0.0</td>\n",
       "      <td>2</td>\n",
       "    </tr>\n",
       "    <tr>\n",
       "      <th>4</th>\n",
       "      <td>ANSL_57969</td>\n",
       "      <td>2017-09-28 00:00:00</td>\n",
       "      <td>2017-11-19 09:38:00</td>\n",
       "      <td>2.0</td>\n",
       "      <td>Black</td>\n",
       "      <td>0.50</td>\n",
       "      <td>11.06</td>\n",
       "      <td>18</td>\n",
       "      <td>4</td>\n",
       "      <td>0.0</td>\n",
       "      <td>1</td>\n",
       "    </tr>\n",
       "  </tbody>\n",
       "</table>\n",
       "</div>"
      ],
      "text/plain": [
       "       pet_id           issue_date         listing_date  condition  \\\n",
       "0  ANSL_69903  2016-07-10 00:00:00  2016-09-21 16:25:00        2.0   \n",
       "1  ANSL_66892  2013-11-21 00:00:00  2018-12-27 17:47:00        1.0   \n",
       "2  ANSL_69750  2014-09-28 00:00:00  2016-10-19 08:24:00        NaN   \n",
       "3  ANSL_71623  2016-12-31 00:00:00  2019-01-25 18:30:00        1.0   \n",
       "4  ANSL_57969  2017-09-28 00:00:00  2017-11-19 09:38:00        2.0   \n",
       "\n",
       "    color_type  length(m)  height(cm)  X1  X2  breed_category  pet_category  \n",
       "0  Brown Tabby       0.80        7.78  13   9             0.0             1  \n",
       "1        White       0.72       14.19  13   9             0.0             2  \n",
       "2        Brown       0.15       40.90  15   4             2.0             4  \n",
       "3        White       0.62       17.82   0   1             0.0             2  \n",
       "4        Black       0.50       11.06  18   4             0.0             1  "
      ]
     },
     "execution_count": 5,
     "metadata": {},
     "output_type": "execute_result"
    }
   ],
   "source": [
    "df.head()"
   ]
  },
  {
   "cell_type": "code",
   "execution_count": 8,
   "metadata": {},
   "outputs": [
    {
     "data": {
      "text/plain": [
       "pet_id               0\n",
       "issue_date           0\n",
       "listing_date         0\n",
       "condition         1477\n",
       "color_type           0\n",
       "length(m)            0\n",
       "height(cm)           0\n",
       "X1                   0\n",
       "X2                   0\n",
       "breed_category       0\n",
       "pet_category         0\n",
       "dtype: int64"
      ]
     },
     "execution_count": 8,
     "metadata": {},
     "output_type": "execute_result"
    }
   ],
   "source": [
    "df.isnull().sum()"
   ]
  },
  {
   "cell_type": "code",
   "execution_count": 9,
   "metadata": {},
   "outputs": [
    {
     "data": {
      "text/html": [
       "<div>\n",
       "<style scoped>\n",
       "    .dataframe tbody tr th:only-of-type {\n",
       "        vertical-align: middle;\n",
       "    }\n",
       "\n",
       "    .dataframe tbody tr th {\n",
       "        vertical-align: top;\n",
       "    }\n",
       "\n",
       "    .dataframe thead th {\n",
       "        text-align: right;\n",
       "    }\n",
       "</style>\n",
       "<table border=\"1\" class=\"dataframe\">\n",
       "  <thead>\n",
       "    <tr style=\"text-align: right;\">\n",
       "      <th></th>\n",
       "      <th>condition</th>\n",
       "      <th>length(m)</th>\n",
       "      <th>height(cm)</th>\n",
       "      <th>X1</th>\n",
       "      <th>X2</th>\n",
       "      <th>breed_category</th>\n",
       "      <th>pet_category</th>\n",
       "    </tr>\n",
       "  </thead>\n",
       "  <tbody>\n",
       "    <tr>\n",
       "      <th>count</th>\n",
       "      <td>17357.000000</td>\n",
       "      <td>18834.000000</td>\n",
       "      <td>18834.000000</td>\n",
       "      <td>18834.000000</td>\n",
       "      <td>18834.000000</td>\n",
       "      <td>18834.000000</td>\n",
       "      <td>18834.000000</td>\n",
       "    </tr>\n",
       "    <tr>\n",
       "      <th>mean</th>\n",
       "      <td>0.883390</td>\n",
       "      <td>0.502636</td>\n",
       "      <td>27.448832</td>\n",
       "      <td>5.369598</td>\n",
       "      <td>4.577307</td>\n",
       "      <td>0.600563</td>\n",
       "      <td>1.709143</td>\n",
       "    </tr>\n",
       "    <tr>\n",
       "      <th>std</th>\n",
       "      <td>0.770434</td>\n",
       "      <td>0.288705</td>\n",
       "      <td>13.019781</td>\n",
       "      <td>6.572366</td>\n",
       "      <td>3.517763</td>\n",
       "      <td>0.629883</td>\n",
       "      <td>0.717919</td>\n",
       "    </tr>\n",
       "    <tr>\n",
       "      <th>min</th>\n",
       "      <td>0.000000</td>\n",
       "      <td>0.000000</td>\n",
       "      <td>5.000000</td>\n",
       "      <td>0.000000</td>\n",
       "      <td>0.000000</td>\n",
       "      <td>0.000000</td>\n",
       "      <td>0.000000</td>\n",
       "    </tr>\n",
       "    <tr>\n",
       "      <th>25%</th>\n",
       "      <td>0.000000</td>\n",
       "      <td>0.250000</td>\n",
       "      <td>16.172500</td>\n",
       "      <td>0.000000</td>\n",
       "      <td>1.000000</td>\n",
       "      <td>0.000000</td>\n",
       "      <td>1.000000</td>\n",
       "    </tr>\n",
       "    <tr>\n",
       "      <th>50%</th>\n",
       "      <td>1.000000</td>\n",
       "      <td>0.500000</td>\n",
       "      <td>27.340000</td>\n",
       "      <td>0.000000</td>\n",
       "      <td>4.000000</td>\n",
       "      <td>1.000000</td>\n",
       "      <td>2.000000</td>\n",
       "    </tr>\n",
       "    <tr>\n",
       "      <th>75%</th>\n",
       "      <td>1.000000</td>\n",
       "      <td>0.760000</td>\n",
       "      <td>38.890000</td>\n",
       "      <td>13.000000</td>\n",
       "      <td>9.000000</td>\n",
       "      <td>1.000000</td>\n",
       "      <td>2.000000</td>\n",
       "    </tr>\n",
       "    <tr>\n",
       "      <th>max</th>\n",
       "      <td>2.000000</td>\n",
       "      <td>1.000000</td>\n",
       "      <td>50.000000</td>\n",
       "      <td>19.000000</td>\n",
       "      <td>9.000000</td>\n",
       "      <td>2.000000</td>\n",
       "      <td>4.000000</td>\n",
       "    </tr>\n",
       "  </tbody>\n",
       "</table>\n",
       "</div>"
      ],
      "text/plain": [
       "          condition     length(m)    height(cm)            X1            X2  \\\n",
       "count  17357.000000  18834.000000  18834.000000  18834.000000  18834.000000   \n",
       "mean       0.883390      0.502636     27.448832      5.369598      4.577307   \n",
       "std        0.770434      0.288705     13.019781      6.572366      3.517763   \n",
       "min        0.000000      0.000000      5.000000      0.000000      0.000000   \n",
       "25%        0.000000      0.250000     16.172500      0.000000      1.000000   \n",
       "50%        1.000000      0.500000     27.340000      0.000000      4.000000   \n",
       "75%        1.000000      0.760000     38.890000     13.000000      9.000000   \n",
       "max        2.000000      1.000000     50.000000     19.000000      9.000000   \n",
       "\n",
       "       breed_category  pet_category  \n",
       "count    18834.000000  18834.000000  \n",
       "mean         0.600563      1.709143  \n",
       "std          0.629883      0.717919  \n",
       "min          0.000000      0.000000  \n",
       "25%          0.000000      1.000000  \n",
       "50%          1.000000      2.000000  \n",
       "75%          1.000000      2.000000  \n",
       "max          2.000000      4.000000  "
      ]
     },
     "execution_count": 9,
     "metadata": {},
     "output_type": "execute_result"
    }
   ],
   "source": [
    "df.describe()"
   ]
  },
  {
   "cell_type": "code",
   "execution_count": 15,
   "metadata": {},
   "outputs": [
    {
     "data": {
      "text/plain": [
       "Black                4620\n",
       "White                2453\n",
       "Brown                1791\n",
       "Brown Tabby          1687\n",
       "Tan                  1349\n",
       "Blue                  852\n",
       "Orange Tabby          791\n",
       "Red                   526\n",
       "Brown Brindle         496\n",
       "Tricolor              469\n",
       "Blue Tabby            386\n",
       "Tortie                366\n",
       "Calico                343\n",
       "Gray                  307\n",
       "Chocolate             259\n",
       "Torbie                242\n",
       "Cream Tabby           191\n",
       "Sable                 167\n",
       "Cream                 162\n",
       "Fawn                  159\n",
       "Yellow                143\n",
       "Buff                  125\n",
       "Lynx Point            117\n",
       "Blue Merle            104\n",
       "Seal Point             78\n",
       "Black Brindle          66\n",
       "Gray Tabby             65\n",
       "Black Tabby            55\n",
       "Flame Point            52\n",
       "Brown Merle            39\n",
       "Orange                 39\n",
       "Black Smoke            32\n",
       "Gold                   31\n",
       "Tortie Point           26\n",
       "Silver                 24\n",
       "Red Tick               23\n",
       "Blue Tick              21\n",
       "Blue Point             20\n",
       "Lilac Point            19\n",
       "Silver Tabby           18\n",
       "Yellow Brindle         15\n",
       "Red Merle              13\n",
       "Apricot                13\n",
       "Calico Point           12\n",
       "Blue Tiger             10\n",
       "Blue Cream             10\n",
       "Chocolate Point         9\n",
       "Pink                    8\n",
       "Green                   8\n",
       "Blue Smoke              6\n",
       "Brown Tiger             4\n",
       "Agouti                  4\n",
       "Silver Lynx Point       4\n",
       "Liver                   3\n",
       "Black Tiger             1\n",
       "Liver Tick              1\n",
       "Name: color_type, dtype: int64"
      ]
     },
     "execution_count": 15,
     "metadata": {},
     "output_type": "execute_result"
    }
   ],
   "source": [
    "df[\"color_type\"].value_counts().sort_values(ascending=False)"
   ]
  },
  {
   "cell_type": "code",
   "execution_count": 17,
   "metadata": {},
   "outputs": [
    {
     "data": {
      "text/plain": [
       "1.0    6819\n",
       "0.0    6281\n",
       "2.0    4257\n",
       "Name: condition, dtype: int64"
      ]
     },
     "execution_count": 17,
     "metadata": {},
     "output_type": "execute_result"
    }
   ],
   "source": [
    "df[\"condition\"].value_counts().sort_values(ascending=False)"
   ]
  },
  {
   "cell_type": "code",
   "execution_count": 12,
   "metadata": {},
   "outputs": [],
   "source": [
    "test_df = pd.read_csv(\"test.csv\")"
   ]
  },
  {
   "cell_type": "code",
   "execution_count": 14,
   "metadata": {},
   "outputs": [
    {
     "data": {
      "text/plain": [
       "Black                1955\n",
       "White                1033\n",
       "Brown                 801\n",
       "Brown Tabby           712\n",
       "Tan                   585\n",
       "Blue                  383\n",
       "Orange Tabby          332\n",
       "Brown Brindle         222\n",
       "Red                   216\n",
       "Tricolor              195\n",
       "Blue Tabby            171\n",
       "Calico                152\n",
       "Tortie                146\n",
       "Chocolate             133\n",
       "Gray                  129\n",
       "Torbie                 99\n",
       "Cream                  78\n",
       "Cream Tabby            69\n",
       "Yellow                 65\n",
       "Sable                  65\n",
       "Buff                   58\n",
       "Lynx Point             56\n",
       "Fawn                   56\n",
       "Seal Point             37\n",
       "Gray Tabby             31\n",
       "Black Tabby            31\n",
       "Blue Merle             30\n",
       "Black Brindle          26\n",
       "Flame Point            22\n",
       "Brown Merle            22\n",
       "Blue Tick              20\n",
       "Orange                 17\n",
       "Red Merle              12\n",
       "Red Tick               11\n",
       "Black Smoke            10\n",
       "Silver                 10\n",
       "Gold                    9\n",
       "Chocolate Point         8\n",
       "Silver Tabby            8\n",
       "Yellow Brindle          8\n",
       "Tortie Point            8\n",
       "Blue Smoke              6\n",
       "Blue Cream              5\n",
       "Calico Point            5\n",
       "Green                   5\n",
       "Apricot                 3\n",
       "Blue Point              3\n",
       "Silver Lynx Point       3\n",
       "Lilac Point             3\n",
       "Pink                    3\n",
       "Agouti                  2\n",
       "Liver Tick              1\n",
       "Blue Tiger              1\n",
       "Liver                   1\n",
       "Name: color_type, dtype: int64"
      ]
     },
     "execution_count": 14,
     "metadata": {},
     "output_type": "execute_result"
    }
   ],
   "source": [
    "test_df[\"color_type\"].value_counts().sort_values(ascending=False)"
   ]
  },
  {
   "cell_type": "code",
   "execution_count": null,
   "metadata": {},
   "outputs": [],
   "source": []
  }
 ],
 "metadata": {
  "kernelspec": {
   "display_name": "Python 3",
   "language": "python",
   "name": "python3"
  },
  "language_info": {
   "codemirror_mode": {
    "name": "ipython",
    "version": 3
   },
   "file_extension": ".py",
   "mimetype": "text/x-python",
   "name": "python",
   "nbconvert_exporter": "python",
   "pygments_lexer": "ipython3",
   "version": "3.7.5"
  }
 },
 "nbformat": 4,
 "nbformat_minor": 2
}
